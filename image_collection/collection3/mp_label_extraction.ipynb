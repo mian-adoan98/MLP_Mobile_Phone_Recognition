{
 "cells": [
  {
   "cell_type": "markdown",
   "metadata": {},
   "source": [
    "## Label Extraction: Amazon Webpage"
   ]
  },
  {
   "cell_type": "code",
   "execution_count": 1,
   "metadata": {},
   "outputs": [],
   "source": [
    "# import dependencies for system configuration\n",
    "import os\n",
    "import sys\n",
    "import warnings\n",
    "import time\n",
    "\n",
    "# import dependencies for collecting images\n",
    "import pandas as pd \n",
    "import numpy as np "
   ]
  },
  {
   "cell_type": "markdown",
   "metadata": {},
   "source": [
    "Approach: Image Extraction\n",
    "\n",
    "+ Loading Dataset of amazon urls\n",
    "+ Extracting images per url \n",
    "+ Downloading mobile phone images with created folder\n",
    "+ Storing images"
   ]
  },
  {
   "cell_type": "markdown",
   "metadata": {},
   "source": [
    "## Data Loading"
   ]
  },
  {
   "cell_type": "code",
   "execution_count": 3,
   "metadata": {},
   "outputs": [
    {
     "data": {
      "text/html": [
       "<div>\n",
       "<style scoped>\n",
       "    .dataframe tbody tr th:only-of-type {\n",
       "        vertical-align: middle;\n",
       "    }\n",
       "\n",
       "    .dataframe tbody tr th {\n",
       "        vertical-align: top;\n",
       "    }\n",
       "\n",
       "    .dataframe thead th {\n",
       "        text-align: right;\n",
       "    }\n",
       "</style>\n",
       "<table border=\"1\" class=\"dataframe\">\n",
       "  <thead>\n",
       "    <tr style=\"text-align: right;\">\n",
       "      <th></th>\n",
       "      <th>links</th>\n",
       "    </tr>\n",
       "  </thead>\n",
       "  <tbody>\n",
       "    <tr>\n",
       "      <th>0</th>\n",
       "      <td>https://www.amazon.com.be/-/en/s?i=electronics...</td>\n",
       "    </tr>\n",
       "    <tr>\n",
       "      <th>1</th>\n",
       "      <td>https://www.amazon.com.be/-/en/s?i=electronics...</td>\n",
       "    </tr>\n",
       "    <tr>\n",
       "      <th>2</th>\n",
       "      <td>https://www.amazon.com.be/-/en/s?i=electronics...</td>\n",
       "    </tr>\n",
       "    <tr>\n",
       "      <th>3</th>\n",
       "      <td>https://www.amazon.com.be/-/en/s?i=electronics...</td>\n",
       "    </tr>\n",
       "    <tr>\n",
       "      <th>4</th>\n",
       "      <td>https://www.amazon.com.be/-/en/s?i=electronics...</td>\n",
       "    </tr>\n",
       "  </tbody>\n",
       "</table>\n",
       "</div>"
      ],
      "text/plain": [
       "                                               links\n",
       "0  https://www.amazon.com.be/-/en/s?i=electronics...\n",
       "1  https://www.amazon.com.be/-/en/s?i=electronics...\n",
       "2  https://www.amazon.com.be/-/en/s?i=electronics...\n",
       "3  https://www.amazon.com.be/-/en/s?i=electronics...\n",
       "4  https://www.amazon.com.be/-/en/s?i=electronics..."
      ]
     },
     "execution_count": 3,
     "metadata": {},
     "output_type": "execute_result"
    }
   ],
   "source": [
    "# Load the amazon weblink dataset\n",
    "weblink_file = \"amazon_links2.csv\"\n",
    "amazon_ds = pd.read_csv(weblink_file)\n",
    "amazon_ds.head()"
   ]
  },
  {
   "cell_type": "markdown",
   "metadata": {},
   "source": [
    "## Data Extracting from URL (P1): Testcase"
   ]
  },
  {
   "cell_type": "markdown",
   "metadata": {},
   "source": [
    "+ Setup WebDriver\n",
    "+ Extracting labels from amazon webpage\n",
    "+ Storing labels in DataFrame"
   ]
  },
  {
   "cell_type": "code",
   "execution_count": 4,
   "metadata": {},
   "outputs": [],
   "source": [
    "# Import dependencies for extracting image content from amazon webpage\n",
    "from selenium import webdriver \n",
    "from selenium.webdriver.edge.options import Options\n",
    "from selenium.webdriver.edge.service import Service\n",
    "from selenium.webdriver.common.by import By "
   ]
  },
  {
   "cell_type": "code",
   "execution_count": 5,
   "metadata": {},
   "outputs": [],
   "source": [
    "# Set up Webdriver for Edge Browser\n",
    "options = Options()\n",
    "options.add_argument(\"--headless\")\n",
    "\n",
    "# Set up Browser service \n",
    "edgedriver_path = \"D:\\\\Data_Engineering\\\\data_extraction\\\\msedgedriver.exe\"\n",
    "service = Service(executable_path=edgedriver_path)\n",
    "driver = webdriver.Edge(service=service, options=options)"
   ]
  },
  {
   "cell_type": "markdown",
   "metadata": {},
   "source": [
    "Test Case 1: Amazon with 10 labels"
   ]
  },
  {
   "cell_type": "code",
   "execution_count": 6,
   "metadata": {},
   "outputs": [
    {
     "name": "stdout",
     "output_type": "stream",
     "text": [
      "Amazon URL 1: 2 items (extracted successfully) \n",
      "Amazon URL 2: 2 items (extracted successfully) \n",
      "Amazon URL 3: 24 items (extracted successfully) \n",
      "Extraction Successful. Number of Items: 28\n"
     ]
    }
   ],
   "source": [
    "# Test case 1: 1 amazon link \n",
    "amazon_link = amazon_ds[\"links\"].values[0]\n",
    "\n",
    "def extract_labels(webdriver, link) -> list:\n",
    "    webdriver.get(link)\n",
    "    time.sleep(5)\n",
    "\n",
    "    product_titles = driver.execute_script(\"\"\" \n",
    "        var h2_selector = \"h2.a-size-base-plus.a-spacing-none.a-color-base.a-text-normal\";\n",
    "        var titles = [];\n",
    "        var elements = document.querySelectorAll(h2_selector);\n",
    "        elements.forEach(function(element){\n",
    "            titles.push(element.innerText);                                       \n",
    "        });\n",
    "        return titles\n",
    "    \"\"\")\n",
    "\n",
    "    return product_titles\n",
    "\n",
    "# Test case 2: 3 amazon links \n",
    "amazon_links = amazon_ds[\"links\"].values[0:3]\n",
    "item_title_lst = []\n",
    "item_tot = 0\n",
    "for i, link in enumerate(amazon_links): \n",
    "    # Extract the product titles from each link + take the size of each sequence\n",
    "    text_sequence = extract_labels(webdriver=driver, link=link)\n",
    "    seq_len = len(text_sequence)\n",
    "\n",
    "    # Store text sequence in list of all item titles\n",
    "    item_title_lst.append(text_sequence)\n",
    "    print(f\"Amazon URL {i + 1}: {seq_len} items (extracted successfully) \")\n",
    "    item_tot += seq_len\n",
    "print(f\"Extraction Successful. Number of Items: {item_tot}\")\n"
   ]
  },
  {
   "cell_type": "code",
   "execution_count": 7,
   "metadata": {},
   "outputs": [
    {
     "data": {
      "text/plain": [
       "array(['Samsung Galaxy A53 5G 256GB Black',\n",
       "       'S906 Galaxy S22+ 5G 128GB Pink Gold',\n",
       "       'Samsung Smartphone Galaxy A50 - Enterprise Edition SM-A505FZKSE28 128 GB 6.4 Inch (16.2 cm) Dual SIM Android™ 9.0 25',\n",
       "       'SAMSUNG G389F Galaxy XCOVER 3 Dark Silver',\n",
       "       'Nokia 105-2019 Dual SIM Black (TA-1174)'], dtype='<U140')"
      ]
     },
     "execution_count": 7,
     "metadata": {},
     "output_type": "execute_result"
    }
   ],
   "source": [
    "item_titles = np.array([item for title_seq in item_title_lst for item in title_seq])\n",
    "item_titles[:5]"
   ]
  },
  {
   "cell_type": "markdown",
   "metadata": {},
   "source": [
    "## Data Extraction P1: Iteration Extraction Loop"
   ]
  },
  {
   "cell_type": "markdown",
   "metadata": {},
   "source": [
    "The iterative extraction loop allows to extract all text titles for each mobile phone items from the webpage. Whenever a link has been targeted, the loop monitors the extraction mechanism whereby each title has been identified and operational to be scraped. It also monitors the numbers of extracted text content from each amazon weblink. Once the extraction has been completed, it computes a sum of all the extraction labels to idenitfy the the content size of all request URLs simultaneously. "
   ]
  },
  {
   "cell_type": "code",
   "execution_count": null,
   "metadata": {},
   "outputs": [],
   "source": [
    "# Iterated Extraction loop \n",
    "def iterative_extraction(amazon_links):\n",
    "    # Define constants\n",
    "    item_title_lst = []\n",
    "    item_tot = 0\n",
    "\n",
    "    # Extraction process\n",
    "    for i, link in enumerate(amazon_links): \n",
    "        # Extract the product titles from each link + take the size of each sequence\n",
    "        text_sequence = extract_labels(webdriver=driver, link=link)\n",
    "        seq_len = len(text_sequence)\n",
    "\n",
    "        # Store text sequence in list of all item titles\n",
    "        item_title_lst.append(text_sequence)\n",
    "        print(f\"Amazon URL {i}: {seq_len} items (extracted successfully) \")\n",
    "        item_tot += seq_len\n",
    "       \n",
    "    # Flatten all item titles\n",
    "    item_titles = np.array([item for title_seq in item_title_lst for item in title_seq])\n",
    "    print(f\"Extraction Successful. Number of Items: {item_tot}\")\n",
    "    \n",
    "    return item_titles"
   ]
  },
  {
   "cell_type": "code",
   "execution_count": 10,
   "metadata": {},
   "outputs": [
    {
     "name": "stdout",
     "output_type": "stream",
     "text": [
      "Amazon URL 0: 2 items (extracted successfully) \n",
      "Amazon URL 1: 2 items (extracted successfully) \n",
      "Amazon URL 2: 24 items (extracted successfully) \n",
      "Amazon URL 3: 24 items (extracted successfully) \n",
      "Amazon URL 4: 24 items (extracted successfully) \n",
      "Amazon URL 5: 24 items (extracted successfully) \n",
      "Amazon URL 6: 24 items (extracted successfully) \n",
      "Amazon URL 7: 24 items (extracted successfully) \n",
      "Amazon URL 8: 24 items (extracted successfully) \n",
      "Amazon URL 9: 24 items (extracted successfully) \n",
      "Amazon URL 10: 24 items (extracted successfully) \n",
      "Amazon URL 11: 24 items (extracted successfully) \n",
      "Amazon URL 12: 24 items (extracted successfully) \n",
      "Amazon URL 13: 24 items (extracted successfully) \n",
      "Amazon URL 14: 24 items (extracted successfully) \n",
      "Amazon URL 15: 24 items (extracted successfully) \n",
      "Amazon URL 16: 24 items (extracted successfully) \n",
      "Amazon URL 17: 24 items (extracted successfully) \n",
      "Amazon URL 18: 10 items (extracted successfully) \n",
      "Amazon URL 19: 24 items (extracted successfully) \n",
      "Amazon URL 20: 24 items (extracted successfully) \n",
      "Amazon URL 21: 22 items (extracted successfully) \n",
      "Amazon URL 22: 9 items (extracted successfully) \n",
      "Amazon URL 23: 24 items (extracted successfully) \n",
      "Amazon URL 24: 24 items (extracted successfully) \n",
      "Amazon URL 25: 17 items (extracted successfully) \n",
      "Amazon URL 26: 24 items (extracted successfully) \n",
      "Amazon URL 27: 24 items (extracted successfully) \n",
      "Amazon URL 28: 24 items (extracted successfully) \n",
      "Amazon URL 29: 24 items (extracted successfully) \n",
      "Amazon URL 30: 24 items (extracted successfully) \n",
      "Amazon URL 31: 24 items (extracted successfully) \n",
      "Amazon URL 32: 24 items (extracted successfully) \n",
      "Amazon URL 33: 11 items (extracted successfully) \n",
      "Amazon URL 34: 24 items (extracted successfully) \n",
      "Amazon URL 35: 24 items (extracted successfully) \n",
      "Amazon URL 36: 20 items (extracted successfully) \n",
      "Amazon URL 37: 24 items (extracted successfully) \n",
      "Amazon URL 38: 11 items (extracted successfully) \n",
      "Amazon URL 39: 24 items (extracted successfully) \n",
      "Amazon URL 40: 24 items (extracted successfully) \n",
      "Amazon URL 41: 24 items (extracted successfully) \n",
      "Amazon URL 42: 24 items (extracted successfully) \n",
      "Amazon URL 43: 24 items (extracted successfully) \n",
      "Amazon URL 44: 24 items (extracted successfully) \n",
      "Amazon URL 45: 24 items (extracted successfully) \n",
      "Amazon URL 46: 24 items (extracted successfully) \n",
      "Amazon URL 47: 0 items (extracted successfully) \n",
      "Amazon URL 48: 0 items (extracted successfully) \n",
      "Amazon URL 49: 0 items (extracted successfully) \n",
      "Amazon URL 50: 24 items (extracted successfully) \n",
      "Amazon URL 51: 24 items (extracted successfully) \n",
      "Extraction Successful. Number of Items: 1064\n",
      "Extracted labels: ['Samsung Galaxy A53 5G 256GB Black' 'S906 Galaxy S22+ 5G 128GB Pink Gold'\n",
      " 'Samsung Smartphone Galaxy A50 - Enterprise Edition SM-A505FZKSE28 128 GB 6.4 Inch (16.2 cm) Dual SIM Android™ 9.0 25'\n",
      " 'SAMSUNG G389F Galaxy XCOVER 3 Dark Silver'\n",
      " 'Nokia 105-2019 Dual SIM Black (TA-1174)']\n"
     ]
    }
   ],
   "source": [
    "# Extract with full page\n",
    "full_page = amazon_ds[\"links\"].values\n",
    "label_list = iterative_extraction(amazon_links=full_page)\n",
    "print(f\"Extracted labels: {label_list[:5]}\")"
   ]
  },
  {
   "cell_type": "code",
   "execution_count": 12,
   "metadata": {},
   "outputs": [
    {
     "name": "stdout",
     "output_type": "stream",
     "text": [
      "Extraction Successful. Number of Items: 1064\n"
     ]
    }
   ],
   "source": [
    "print(f\"Extraction Successful. Number of Items: {len(label_list)}\")"
   ]
  },
  {
   "cell_type": "markdown",
   "metadata": {},
   "source": [
    "## Label Storage"
   ]
  },
  {
   "cell_type": "markdown",
   "metadata": {},
   "source": [
    "The Label Storage is considered a so called database where all extracted labels are stored. These labels contains all brands of smartphones that are visible in the amazon webpage. Brands like iPhone, Samsung Galaxy, Nokia and many more will be dealt as target labels for training the image recongision system. Once that has been collected in the database, it requires further processing steps to comply with the objectives of the project.  "
   ]
  },
  {
   "cell_type": "code",
   "execution_count": 13,
   "metadata": {},
   "outputs": [],
   "source": [
    "# Store label list\n",
    "label_ds = pd.DataFrame()\n",
    "label_ds[\"Labels\"] = label_list\n",
    "label_ds.to_csv(\"labels2.csv\")"
   ]
  },
  {
   "cell_type": "code",
   "execution_count": null,
   "metadata": {},
   "outputs": [],
   "source": []
  },
  {
   "cell_type": "markdown",
   "metadata": {},
   "source": []
  }
 ],
 "metadata": {
  "kernelspec": {
   "display_name": ".venv",
   "language": "python",
   "name": "python3"
  },
  "language_info": {
   "codemirror_mode": {
    "name": "ipython",
    "version": 3
   },
   "file_extension": ".py",
   "mimetype": "text/x-python",
   "name": "python",
   "nbconvert_exporter": "python",
   "pygments_lexer": "ipython3",
   "version": "3.12.4"
  }
 },
 "nbformat": 4,
 "nbformat_minor": 2
}

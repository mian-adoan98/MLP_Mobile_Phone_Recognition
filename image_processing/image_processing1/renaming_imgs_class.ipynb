{
 "cells": [
  {
   "cell_type": "markdown",
   "metadata": {},
   "source": [
    "## IP: Renaming Images per Class"
   ]
  },
  {
   "cell_type": "code",
   "execution_count": 3,
   "metadata": {},
   "outputs": [],
   "source": [
    "import pandas as pd \n",
    "import numpy as np \n",
    "import shutil \n",
    "import os \n"
   ]
  },
  {
   "cell_type": "code",
   "execution_count": 6,
   "metadata": {},
   "outputs": [],
   "source": [
    "import warnings \n",
    "\n",
    "# Remove the warning message \n",
    "warnings.filterwarnings(\"ignore\", category=pd.errors.SettingWithCopyWarning)"
   ]
  },
  {
   "cell_type": "code",
   "execution_count": 17,
   "metadata": {},
   "outputs": [
    {
     "name": "stdout",
     "output_type": "stream",
     "text": [
      "Dataset Validation structure: ['test', 'train']\n",
      "Training path: D:\\Machine_Learning\\Portfolio_Project_Machine_Learning\\Mobile_Phone_Recognition\\datasets\\train\n",
      "Testing path: D:\\Machine_Learning\\Portfolio_Project_Machine_Learning\\Mobile_Phone_Recognition\\datasets\\test\n"
     ]
    }
   ],
   "source": [
    "# Load the image dataset\n",
    "dataset_path = \"D:\\\\Machine_Learning\\\\Portfolio_Project_Machine_Learning\\\\Mobile_Phone_Recognition\\\\datasets\"\n",
    "dataset_folder_name = os.listdir(dataset_path)\n",
    "dataset_folder_name.remove('collections')\n",
    "dataset_folder_name.remove('dataset_structure')\n",
    "print(f\"Dataset Validation structure: {dataset_folder_name}\")\n",
    "\n",
    "# Define path for training and testing folder\n",
    "train_path = os.path.join(dataset_path, dataset_folder_name[1])\n",
    "test_path = os.path.join(dataset_path, dataset_folder_name[0])\n",
    "print(f\"Training path: {train_path}\")\n",
    "print(f\"Testing path: {test_path}\")"
   ]
  },
  {
   "cell_type": "code",
   "execution_count": 18,
   "metadata": {},
   "outputs": [
    {
     "data": {
      "text/plain": [
       "['Apple', 'Motorola', 'Nokia', 'OnePlus', 'Poco', 'Redmi', 'Samsung', 'Xiaomi']"
      ]
     },
     "execution_count": 18,
     "metadata": {},
     "output_type": "execute_result"
    }
   ],
   "source": [
    "# Find the class folders \n",
    "class_folders = os.listdir(path=train_path)\n",
    "print(f\"Class folders: {class_folders}\")\n",
    "\n",
    "# Rename the images \n"
   ]
  },
  {
   "cell_type": "code",
   "execution_count": null,
   "metadata": {},
   "outputs": [],
   "source": []
  }
 ],
 "metadata": {
  "kernelspec": {
   "display_name": ".venv",
   "language": "python",
   "name": "python3"
  },
  "language_info": {
   "codemirror_mode": {
    "name": "ipython",
    "version": 3
   },
   "file_extension": ".py",
   "mimetype": "text/x-python",
   "name": "python",
   "nbconvert_exporter": "python",
   "pygments_lexer": "ipython3",
   "version": "3.12.4"
  }
 },
 "nbformat": 4,
 "nbformat_minor": 2
}

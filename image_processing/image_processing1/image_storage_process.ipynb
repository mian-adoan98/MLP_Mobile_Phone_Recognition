{
 "cells": [
  {
   "cell_type": "markdown",
   "metadata": {},
   "source": [
    "# Image Storage Processing "
   ]
  },
  {
   "cell_type": "code",
   "execution_count": 1,
   "metadata": {},
   "outputs": [],
   "source": [
    "# import libraries for data processing\n",
    "import numpy as np\n",
    "import pandas as pd\n",
    "\n",
    "# import libraries for file manipulation + system management\n",
    "import os\n",
    "import requests\n",
    "import shutil\n",
    "from urllib.parse import urlparse\n",
    "\n",
    "# import dependency from image processing toolkit\n",
    "# from image_processing_tools import distribute_images\n",
    "from image_processing_tools import train_test_images, move_images\n",
    "from image_processing_tools import remove_images\n",
    "from image_processing_tools import det_folder_size\n",
    "from image_processing_tools import move_img_by_label"
   ]
  },
  {
   "cell_type": "markdown",
   "metadata": {},
   "source": [
    "### ISP-Approach"
   ]
  },
  {
   "cell_type": "markdown",
   "metadata": {},
   "source": [
    "+ Loading Images\n",
    "+ Download images into source images (IF NEEDED)\n",
    "+ Distributing stored images from source path to new destination path\n",
    "+ Image Reorganisation based on labels"
   ]
  },
  {
   "cell_type": "markdown",
   "metadata": {},
   "source": [
    "## Loading Images "
   ]
  },
  {
   "cell_type": "code",
   "execution_count": 2,
   "metadata": {},
   "outputs": [
    {
     "data": {
      "text/html": [
       "<div>\n",
       "<style scoped>\n",
       "    .dataframe tbody tr th:only-of-type {\n",
       "        vertical-align: middle;\n",
       "    }\n",
       "\n",
       "    .dataframe tbody tr th {\n",
       "        vertical-align: top;\n",
       "    }\n",
       "\n",
       "    .dataframe thead th {\n",
       "        text-align: right;\n",
       "    }\n",
       "</style>\n",
       "<table border=\"1\" class=\"dataframe\">\n",
       "  <thead>\n",
       "    <tr style=\"text-align: right;\">\n",
       "      <th></th>\n",
       "      <th>Image_file</th>\n",
       "      <th>Labels</th>\n",
       "      <th>Model</th>\n",
       "      <th>Company</th>\n",
       "    </tr>\n",
       "  </thead>\n",
       "  <tbody>\n",
       "    <tr>\n",
       "      <th>0</th>\n",
       "      <td>image_000.jpg</td>\n",
       "      <td>Samsung SM-A156B Galaxy A15 Dual SIM 5G 4GB RA...</td>\n",
       "      <td>SM-A156B Galaxy</td>\n",
       "      <td>Samsung</td>\n",
       "    </tr>\n",
       "    <tr>\n",
       "      <th>1</th>\n",
       "      <td>image_001.jpg</td>\n",
       "      <td>Samsung SM-A556B Galaxy A55 5G Dual SIM 8GB 12...</td>\n",
       "      <td>SM-A556B Galaxy</td>\n",
       "      <td>Samsung</td>\n",
       "    </tr>\n",
       "    <tr>\n",
       "      <th>2</th>\n",
       "      <td>image_002.jpg</td>\n",
       "      <td>Motorola Moto G54 256GB Blue 5G Android Smartp...</td>\n",
       "      <td>Moto G54</td>\n",
       "      <td>Motorola</td>\n",
       "    </tr>\n",
       "    <tr>\n",
       "      <th>3</th>\n",
       "      <td>image_003.jpg</td>\n",
       "      <td>Xiaomi 14 Ultra 5G 16GB/512GB White (White) Du...</td>\n",
       "      <td>14 Ultra</td>\n",
       "      <td>Xiaomi</td>\n",
       "    </tr>\n",
       "    <tr>\n",
       "      <th>4</th>\n",
       "      <td>image_004.jpg</td>\n",
       "      <td>Samsung Galaxy S20 FE 5G 6GB/128GB Purple (Lav...</td>\n",
       "      <td>Galaxy S20</td>\n",
       "      <td>Samsung</td>\n",
       "    </tr>\n",
       "  </tbody>\n",
       "</table>\n",
       "</div>"
      ],
      "text/plain": [
       "      Image_file                                             Labels  \\\n",
       "0  image_000.jpg  Samsung SM-A156B Galaxy A15 Dual SIM 5G 4GB RA...   \n",
       "1  image_001.jpg  Samsung SM-A556B Galaxy A55 5G Dual SIM 8GB 12...   \n",
       "2  image_002.jpg  Motorola Moto G54 256GB Blue 5G Android Smartp...   \n",
       "3  image_003.jpg  Xiaomi 14 Ultra 5G 16GB/512GB White (White) Du...   \n",
       "4  image_004.jpg  Samsung Galaxy S20 FE 5G 6GB/128GB Purple (Lav...   \n",
       "\n",
       "             Model   Company  \n",
       "0  SM-A156B Galaxy   Samsung  \n",
       "1  SM-A556B Galaxy   Samsung  \n",
       "2         Moto G54  Motorola  \n",
       "3         14 Ultra    Xiaomi  \n",
       "4       Galaxy S20   Samsung  "
      ]
     },
     "execution_count": 2,
     "metadata": {},
     "output_type": "execute_result"
    }
   ],
   "source": [
    "# load dataset \n",
    "image_ds_file = \"image_dataset.csv\"\n",
    "image_df = pd.read_csv(image_ds_file, index_col=0)\n",
    "image_df.head()"
   ]
  },
  {
   "cell_type": "code",
   "execution_count": 3,
   "metadata": {},
   "outputs": [
    {
     "data": {
      "text/plain": [
       "Company\n",
       "Samsung      345\n",
       "Xiaomi       167\n",
       "Apple        105\n",
       "Nokia        103\n",
       "Motorola      30\n",
       "OnePlus       26\n",
       "Redmi         13\n",
       "Poco          10\n",
       "Microsoft      1\n",
       "Name: count, dtype: int64"
      ]
     },
     "execution_count": 3,
     "metadata": {},
     "output_type": "execute_result"
    }
   ],
   "source": [
    "image_df[\"Company\"].value_counts()"
   ]
  },
  {
   "cell_type": "markdown",
   "metadata": {},
   "source": [
    "## Distribution of stored images\n"
   ]
  },
  {
   "cell_type": "markdown",
   "metadata": {},
   "source": [
    "+ Creating source and destination folders\n",
    "+ Split image data into training and testing image sets\n",
    "+ Move images to training and testing folders "
   ]
  },
  {
   "cell_type": "code",
   "execution_count": 4,
   "metadata": {},
   "outputs": [],
   "source": [
    "# data splitting: create constants for number of images in train, test and validation folders \n",
    "train_size = 800\n",
    "test_size = 160\n",
    "validation_size = 40    "
   ]
  },
  {
   "cell_type": "code",
   "execution_count": 5,
   "metadata": {},
   "outputs": [
    {
     "name": "stdout",
     "output_type": "stream",
     "text": [
      "Dataset Paths: ['destination', 'source_images', 'source_images_v1', 'source_images_v2']\n",
      "Destination Folder Folder: D:\\Machine_Learning\\Portfolio_Project_Machine_Learning\\Mobile_Phone_Recognition\\datasets\\destination\n",
      "Source Folder Folder: D:\\Machine_Learning\\Portfolio_Project_Machine_Learning\\Mobile_Phone_Recognition\\datasets\\source_images\n"
     ]
    }
   ],
   "source": [
    "# create list of folders\n",
    "path = \"D:\\\\Machine_Learning\\\\Portfolio_Project_Machine_Learning\\\\Mobile_Phone_Recognition\\\\datasets\"\n",
    "dataset_paths = os.listdir(path)\n",
    "dataset_paths.remove(\"dataset_structure\")\n",
    "os.makedirs(os.path.join(path, \"destination\"), exist_ok=True)\n",
    "print(f\"Dataset Paths: {dataset_paths}\")\n",
    "\n",
    "# create constants: source folder and destination folder (train, test and validation folder) \n",
    "destination_path = os.path.join(path, dataset_paths[0])\n",
    "source_path = os.path.join(path, dataset_paths[1])\n",
    "\n",
    "# Identify the location of source and destination folders\n",
    "for folder_name, path_idx in zip([\"Destination Folder\", \"Source Folder\"], dataset_paths):\n",
    "  ds_path = os.path.join(path, path_idx)\n",
    "  print(f\"{folder_name} Folder: {ds_path}\")"
   ]
  },
  {
   "cell_type": "code",
   "execution_count": 6,
   "metadata": {},
   "outputs": [],
   "source": [
    "# Define the training and testing path\n",
    "tt_path = ['test_images', 'train_images']\n",
    "test_path = os.path.join(destination_path, tt_path[0])\n",
    "train_path = os.path.join(destination_path, tt_path[1])\n",
    "\n",
    "# update test size\n",
    "test_size = [0.20,0.25,0.3]\n",
    "\n",
    "# divide image data into training and testing sets\n",
    "img_label_train, img_label_test = train_test_images(source_dir=source_path,\n",
    "                destination_dir=destination_path,\n",
    "                img_dataframe=image_df,\n",
    "                test_size=test_size[0]\n",
    "                )"
   ]
  },
  {
   "cell_type": "code",
   "execution_count": 7,
   "metadata": {},
   "outputs": [
    {
     "name": "stdout",
     "output_type": "stream",
     "text": [
      "Image 0: image_264.jpg --> Brand: Samsung\n",
      "Image 1: image_615.jpg --> Brand: Xiaomi\n",
      "Image 2: image_329.jpg --> Brand: OnePlus\n",
      "Image 3: image_342.jpg --> Brand: Nokia\n",
      "Image 4: image_394.jpg --> Brand: Samsung\n",
      "Image 5: image_079.jpg --> Brand: Xiaomi\n",
      "Image 6: image_148.jpg --> Brand: Samsung\n",
      "Image 7: image_350.jpg --> Brand: Nokia\n",
      "Image 8: image_382.jpg --> Brand: Samsung\n",
      "Image 9: image_440.jpg --> Brand: Nokia\n",
      "Image 10: image_309.jpg --> Brand: Xiaomi\n",
      "Image 11: image_707.jpg --> Brand: Apple\n",
      "Image 12: image_133.jpg --> Brand: Motorola\n",
      "Image 13: image_381.jpg --> Brand: Samsung\n",
      "Image 14: image_213.jpg --> Brand: Nokia\n",
      "Training images: (640,)\n",
      "Testing images: (160,)\n"
     ]
    }
   ],
   "source": [
    "# Identify image distribution corresponding to its label\n",
    "for i,(image, label) in enumerate(img_label_train[:15]):\n",
    "  print(f\"Image {i}: {image} --> Brand: {label}\")\n",
    "\n",
    "# Initialise image training and testing set\n",
    "img_train = np.array([image[0] for image in img_label_train])\n",
    "img_test = np.array([image[0] for image in img_label_test])\n",
    "\n",
    "# Initialise label training and testing set\n",
    "label_train = np.array([label[1] for label in img_label_train])\n",
    "label_test = np.array([label[1] for label in img_label_test])\n",
    "\n",
    "print(f\"Training images: {img_train.shape}\")\n",
    "print(f\"Testing images: {img_test.shape}\")"
   ]
  },
  {
   "cell_type": "code",
   "execution_count": 8,
   "metadata": {},
   "outputs": [],
   "source": [
    "# Create dataframe --> storing image file and brand label\n",
    "img_train_set = [{\"Image\": img, \"Label\": label} for img, label in zip(img_train, label_train)]\n",
    "img_test_set = [{\"Image\": img, \"Label\": label} for img, label in zip(img_test, label_test)]"
   ]
  },
  {
   "cell_type": "markdown",
   "metadata": {},
   "source": [
    "**Moving image data to seperate training and testing folders**"
   ]
  },
  {
   "cell_type": "code",
   "execution_count": 9,
   "metadata": {},
   "outputs": [],
   "source": [
    "# # Training images: move mobile phone images by brand label\n",
    "# move_images(image_list=img_train_set,\n",
    "#             source_folder=source_path,\n",
    "#             destination_folder=train_path)\n",
    "\n",
    "# # Testing images: move mobile phone images by brand label\n",
    "# move_images(image_list=img_test_set, \n",
    "#             source_folder=source_path,\n",
    "#             destination_folder=test_path)"
   ]
  },
  {
   "cell_type": "markdown",
   "metadata": {},
   "source": [
    "**Moving images to train and test folders based on its label**"
   ]
  },
  {
   "cell_type": "code",
   "execution_count": 10,
   "metadata": {},
   "outputs": [],
   "source": [
    "# Directory to store train ang test images \n",
    "train_path = os.path.join(destination_path, \"train\")\n",
    "\n",
    "# Create dataframe for training images \n",
    "img_train_df = pd.DataFrame()\n",
    "img_train_df[\"Image\"] = img_train\n",
    "img_train_df[\"Label\"] = label_train\n",
    "\n",
    "# Create dataframe for testing images\n",
    "img_test_df = pd.DataFrame()\n",
    "img_test_df[\"Image\"] = img_test\n",
    "img_test_df[\"Label\"] = label_test"
   ]
  },
  {
   "cell_type": "code",
   "execution_count": 15,
   "metadata": {},
   "outputs": [
    {
     "data": {
      "text/html": [
       "<div>\n",
       "<style scoped>\n",
       "    .dataframe tbody tr th:only-of-type {\n",
       "        vertical-align: middle;\n",
       "    }\n",
       "\n",
       "    .dataframe tbody tr th {\n",
       "        vertical-align: top;\n",
       "    }\n",
       "\n",
       "    .dataframe thead th {\n",
       "        text-align: right;\n",
       "    }\n",
       "</style>\n",
       "<table border=\"1\" class=\"dataframe\">\n",
       "  <thead>\n",
       "    <tr style=\"text-align: right;\">\n",
       "      <th></th>\n",
       "      <th>Image</th>\n",
       "      <th>Label</th>\n",
       "    </tr>\n",
       "  </thead>\n",
       "  <tbody>\n",
       "    <tr>\n",
       "      <th>0</th>\n",
       "      <td>image_264.jpg</td>\n",
       "      <td>Samsung</td>\n",
       "    </tr>\n",
       "    <tr>\n",
       "      <th>1</th>\n",
       "      <td>image_615.jpg</td>\n",
       "      <td>Xiaomi</td>\n",
       "    </tr>\n",
       "    <tr>\n",
       "      <th>2</th>\n",
       "      <td>image_329.jpg</td>\n",
       "      <td>OnePlus</td>\n",
       "    </tr>\n",
       "    <tr>\n",
       "      <th>3</th>\n",
       "      <td>image_342.jpg</td>\n",
       "      <td>Nokia</td>\n",
       "    </tr>\n",
       "    <tr>\n",
       "      <th>4</th>\n",
       "      <td>image_394.jpg</td>\n",
       "      <td>Samsung</td>\n",
       "    </tr>\n",
       "  </tbody>\n",
       "</table>\n",
       "</div>"
      ],
      "text/plain": [
       "           Image    Label\n",
       "0  image_264.jpg  Samsung\n",
       "1  image_615.jpg   Xiaomi\n",
       "2  image_329.jpg  OnePlus\n",
       "3  image_342.jpg    Nokia\n",
       "4  image_394.jpg  Samsung"
      ]
     },
     "execution_count": 15,
     "metadata": {},
     "output_type": "execute_result"
    }
   ],
   "source": [
    "img_train_df.head()"
   ]
  },
  {
   "cell_type": "code",
   "execution_count": null,
   "metadata": {},
   "outputs": [
    {
     "name": "stdout",
     "output_type": "stream",
     "text": [
      "Data split complete!\n"
     ]
    }
   ],
   "source": [
    "# # move images to training folder by labels\n",
    "move_img_by_label(target_df=img_train_df, label_df=img_train_df[\"Label\"], \n",
    "                  source_dir=source_path,\n",
    "                  target_dir=destination_path, target=\"train\")\n",
    "\n",
    "# move images to training folder by labels\n",
    "move_img_by_label(target_df=img_test_df, label_df=img_test_df[\"Label\"], \n",
    "                  source_dir=source_path,\n",
    "                  target_dir=destination_path, target=\"test\")"
   ]
  },
  {
   "cell_type": "markdown",
   "metadata": {},
   "source": [
    "Removing current folder (if necessary)"
   ]
  },
  {
   "cell_type": "code",
   "execution_count": null,
   "metadata": {},
   "outputs": [],
   "source": [
    "# remove images from current folder \n",
    "# remove_images(current_folder=destination_path)"
   ]
  },
  {
   "cell_type": "markdown",
   "metadata": {},
   "source": [
    "Redistributing new images with updated train and test sizes:\n",
    "+ Remove the remain exissting images with the old train and test sizes \n",
    "+ Update the train and test sizes\n",
    "+ Redistribute the images with updated train and test sizes"
   ]
  },
  {
   "cell_type": "markdown",
   "metadata": {},
   "source": [
    "## Descriptive Analysis on images based on its label"
   ]
  },
  {
   "cell_type": "markdown",
   "metadata": {},
   "source": [
    "+ finding number of images per training, testing and validation folders\n",
    "+ finding number of images per class label folders"
   ]
  },
  {
   "cell_type": "code",
   "execution_count": 19,
   "metadata": {},
   "outputs": [
    {
     "name": "stdout",
     "output_type": "stream",
     "text": [
      "Training folder: D:\\Machine_Learning\\Portfolio_Project_Machine_Learning\\Mobile_Phone_Recognition\\datasets\\destination\\train\n",
      "Testing folder: D:\\Machine_Learning\\Portfolio_Project_Machine_Learning\\Mobile_Phone_Recognition\\datasets\\destination\\test\n"
     ]
    }
   ],
   "source": [
    "distributed_path = \"D:\\\\Machine_Learning\\\\Portfolio_Project_Machine_Learning\\\\Mobile_Phone_Recognition\\\\datasets\\\\destination\"\n",
    "distributed_path_list = os.listdir(distributed_path)\n",
    "\n",
    "train_path = os.path.join(distributed_path, \"train\")\n",
    "test_path = os.path.join(distributed_path, \"test\")\n",
    "validation_pth = os.path.join(distributed_path, \"validation\")\n",
    "\n",
    "print(f\"Training folder: {train_path}\")\n",
    "print(f\"Testing folder: {test_path}\")\n",
    "# print(f\"Validation folder: {validation_path}\")"
   ]
  },
  {
   "cell_type": "code",
   "execution_count": 35,
   "metadata": {},
   "outputs": [],
   "source": [
    "# define folder size: train, test, validation \n",
    "image_train_counter = det_folder_size(sel_path=train_path)\n",
    "image_test_counter = det_folder_size(sel_path=test_path)\n",
    "# image_val_counter = det_folder_size(sel_path=validation_pth)\n",
    "\n",
    "# Training dataframe: convert into dataframe\n",
    "train_counter_df = pd.DataFrame()\n",
    "train_counter_df[\"Image_Folder\"] = image_train_counter.keys()\n",
    "train_counter_df[\"Train_size\"] = image_train_counter.values()\n",
    "\n",
    "# Training dataframe: convert into dataframe\n",
    "test_counter_df = pd.DataFrame()\n",
    "test_counter_df[\"Image_Folder\"] = image_test_counter.keys()\n",
    "test_counter_df[\"Test_size\"] = image_test_counter.values()"
   ]
  },
  {
   "cell_type": "code",
   "execution_count": 39,
   "metadata": {},
   "outputs": [
    {
     "data": {
      "text/html": [
       "<div>\n",
       "<style scoped>\n",
       "    .dataframe tbody tr th:only-of-type {\n",
       "        vertical-align: middle;\n",
       "    }\n",
       "\n",
       "    .dataframe tbody tr th {\n",
       "        vertical-align: top;\n",
       "    }\n",
       "\n",
       "    .dataframe thead th {\n",
       "        text-align: right;\n",
       "    }\n",
       "</style>\n",
       "<table border=\"1\" class=\"dataframe\">\n",
       "  <thead>\n",
       "    <tr style=\"text-align: right;\">\n",
       "      <th></th>\n",
       "      <th>Image_Folder</th>\n",
       "      <th>Train_size</th>\n",
       "    </tr>\n",
       "  </thead>\n",
       "  <tbody>\n",
       "    <tr>\n",
       "      <th>0</th>\n",
       "      <td>Apple</td>\n",
       "      <td>87</td>\n",
       "    </tr>\n",
       "    <tr>\n",
       "      <th>1</th>\n",
       "      <td>Microsoft</td>\n",
       "      <td>1</td>\n",
       "    </tr>\n",
       "    <tr>\n",
       "      <th>2</th>\n",
       "      <td>Motorola</td>\n",
       "      <td>27</td>\n",
       "    </tr>\n",
       "    <tr>\n",
       "      <th>3</th>\n",
       "      <td>Nokia</td>\n",
       "      <td>85</td>\n",
       "    </tr>\n",
       "    <tr>\n",
       "      <th>4</th>\n",
       "      <td>OnePlus</td>\n",
       "      <td>19</td>\n",
       "    </tr>\n",
       "    <tr>\n",
       "      <th>5</th>\n",
       "      <td>Poco</td>\n",
       "      <td>9</td>\n",
       "    </tr>\n",
       "    <tr>\n",
       "      <th>6</th>\n",
       "      <td>Redmi</td>\n",
       "      <td>8</td>\n",
       "    </tr>\n",
       "    <tr>\n",
       "      <th>7</th>\n",
       "      <td>Samsung</td>\n",
       "      <td>268</td>\n",
       "    </tr>\n",
       "    <tr>\n",
       "      <th>8</th>\n",
       "      <td>Xiaomi</td>\n",
       "      <td>136</td>\n",
       "    </tr>\n",
       "  </tbody>\n",
       "</table>\n",
       "</div>"
      ],
      "text/plain": [
       "  Image_Folder  Train_size\n",
       "0        Apple          87\n",
       "1    Microsoft           1\n",
       "2     Motorola          27\n",
       "3        Nokia          85\n",
       "4      OnePlus          19\n",
       "5         Poco           9\n",
       "6        Redmi           8\n",
       "7      Samsung         268\n",
       "8       Xiaomi         136"
      ]
     },
     "execution_count": 39,
     "metadata": {},
     "output_type": "execute_result"
    }
   ],
   "source": [
    "train_counter_df"
   ]
  },
  {
   "cell_type": "code",
   "execution_count": 40,
   "metadata": {},
   "outputs": [
    {
     "name": "stdout",
     "output_type": "stream",
     "text": [
      "Training Size: 640\n",
      "Testing Size: 160\n"
     ]
    }
   ],
   "source": [
    "# train_counter_df[\"Train_size\"].sum()\n",
    "train_size = train_counter_df[\"Train_size\"].sum()\n",
    "test_size = test_counter_df[\"Test_size\"].sum()\n",
    "\n",
    "print(f\"Training Size: {train_size}\")\n",
    "print(f\"Testing Size: {test_size}\")"
   ]
  },
  {
   "cell_type": "code",
   "execution_count": 41,
   "metadata": {},
   "outputs": [
    {
     "data": {
      "text/html": [
       "<div>\n",
       "<style scoped>\n",
       "    .dataframe tbody tr th:only-of-type {\n",
       "        vertical-align: middle;\n",
       "    }\n",
       "\n",
       "    .dataframe tbody tr th {\n",
       "        vertical-align: top;\n",
       "    }\n",
       "\n",
       "    .dataframe thead th {\n",
       "        text-align: right;\n",
       "    }\n",
       "</style>\n",
       "<table border=\"1\" class=\"dataframe\">\n",
       "  <thead>\n",
       "    <tr style=\"text-align: right;\">\n",
       "      <th></th>\n",
       "      <th>0</th>\n",
       "    </tr>\n",
       "  </thead>\n",
       "  <tbody>\n",
       "    <tr>\n",
       "      <th>Train_sum</th>\n",
       "      <td>640</td>\n",
       "    </tr>\n",
       "    <tr>\n",
       "      <th>Test_sum</th>\n",
       "      <td>160</td>\n",
       "    </tr>\n",
       "  </tbody>\n",
       "</table>\n",
       "</div>"
      ],
      "text/plain": [
       "             0\n",
       "Train_sum  640\n",
       "Test_sum   160"
      ]
     },
     "execution_count": 41,
     "metadata": {},
     "output_type": "execute_result"
    }
   ],
   "source": [
    "# Create dataframe: compute the total images \n",
    "image_total_set = pd.DataFrame()\n",
    "image_total_set[\"Train_sum\"] = pd.Series(train_counter_df[\"Train_size\"].sum())\n",
    "image_total_set[\"Test_sum\"] = pd.Series(test_counter_df[\"Test_size\"].sum())\n",
    "# image_total_set[\"Valdation_sum\"] = pd.Series(train_counter_df[\"Validation_size\"].sum())\n",
    "\n",
    "# image_total_set = image_total_set.transpose()\n",
    "image_total_set.transpose()"
   ]
  }
 ],
 "metadata": {
  "kernelspec": {
   "display_name": ".venv",
   "language": "python",
   "name": "python3"
  },
  "language_info": {
   "codemirror_mode": {
    "name": "ipython",
    "version": 3
   },
   "file_extension": ".py",
   "mimetype": "text/x-python",
   "name": "python",
   "nbconvert_exporter": "python",
   "pygments_lexer": "ipython3",
   "version": "3.12.4"
  }
 },
 "nbformat": 4,
 "nbformat_minor": 2
}

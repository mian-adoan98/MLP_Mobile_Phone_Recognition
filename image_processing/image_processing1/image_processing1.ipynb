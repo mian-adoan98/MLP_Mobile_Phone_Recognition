{
 "cells": [
  {
   "cell_type": "markdown",
   "metadata": {},
   "source": [
    "# Image Processing: Mobile Phones"
   ]
  },
  {
   "cell_type": "code",
   "execution_count": 1,
   "metadata": {},
   "outputs": [],
   "source": [
    "# import libraries for data processing\n",
    "import tensorflow as tf \n",
    "import numpy as np\n",
    "import pandas as pd\n",
    "import sys\n",
    "import glob\n",
    "import os \n",
    "\n",
    "# import tools from module image processing\n",
    "# Add the parent directory to the path to access image_collection\n",
    "sys.path.append(os.path.abspath(os.path.join(os.getcwd(), '..')))\n",
    "from image_processing_tools import rename_images\n",
    "from image_collection.data_manipulation_tools import download_images\n",
    "\n",
    "# import computer vision libraries \n",
    "from tensorflow.keras.preprocessing import image\n",
    "import cv2 as cv \n",
    "import PIL "
   ]
  },
  {
   "cell_type": "markdown",
   "metadata": {},
   "source": [
    "### ML Approach: Image Processing"
   ]
  },
  {
   "cell_type": "markdown",
   "metadata": {},
   "source": [
    "+ Reorganisation Images\n",
    "+ Image Extraction\n",
    "+ Image Preprocessing\n",
    "+ Image Conversion in 3D arrays\n",
    "+ Imagery Analysis"
   ]
  },
  {
   "cell_type": "markdown",
   "metadata": {},
   "source": [
    "## Reorganisation Images"
   ]
  },
  {
   "cell_type": "markdown",
   "metadata": {},
   "source": [
    "Approach\n",
    "+ rename all mobile images in the folder \n",
    "+ create class folders for training model"
   ]
  },
  {
   "cell_type": "code",
   "execution_count": 2,
   "metadata": {},
   "outputs": [],
   "source": [
    "# rename images of the folder \n",
    "image_folder = \"D:\\\\Machine_Learning\\\\Portfolio_Project_Machine_Learning\\\\Mobile_Phone_Recognition\\\\mobile_phone_images\\\\mobile_images_v2\"\n",
    "image_files = os.listdir(image_folder)\n",
    "# Define a pattern to match image files (you can customize this if needed)"
   ]
  },
  {
   "cell_type": "code",
   "execution_count": 3,
   "metadata": {},
   "outputs": [],
   "source": [
    "# rename images from selected directory\n",
    "# rename_images(directory=image_folder, files=image_files)"
   ]
  },
  {
   "cell_type": "code",
   "execution_count": 4,
   "metadata": {},
   "outputs": [
    {
     "data": {
      "text/html": [
       "<div>\n",
       "<style scoped>\n",
       "    .dataframe tbody tr th:only-of-type {\n",
       "        vertical-align: middle;\n",
       "    }\n",
       "\n",
       "    .dataframe tbody tr th {\n",
       "        vertical-align: top;\n",
       "    }\n",
       "\n",
       "    .dataframe thead th {\n",
       "        text-align: right;\n",
       "    }\n",
       "</style>\n",
       "<table border=\"1\" class=\"dataframe\">\n",
       "  <thead>\n",
       "    <tr style=\"text-align: right;\">\n",
       "      <th></th>\n",
       "      <th>Image_file</th>\n",
       "      <th>Labels</th>\n",
       "      <th>Model</th>\n",
       "      <th>Company</th>\n",
       "    </tr>\n",
       "  </thead>\n",
       "  <tbody>\n",
       "    <tr>\n",
       "      <th>0</th>\n",
       "      <td>image_000.jpg</td>\n",
       "      <td>Samsung SM-A156B Galaxy A15 Dual SIM 5G 4GB RA...</td>\n",
       "      <td>SM-A156B Galaxy</td>\n",
       "      <td>Samsung</td>\n",
       "    </tr>\n",
       "    <tr>\n",
       "      <th>1</th>\n",
       "      <td>image_001.jpg</td>\n",
       "      <td>Samsung SM-A556B Galaxy A55 5G Dual SIM 8GB 12...</td>\n",
       "      <td>SM-A556B Galaxy</td>\n",
       "      <td>Samsung</td>\n",
       "    </tr>\n",
       "    <tr>\n",
       "      <th>2</th>\n",
       "      <td>image_002.jpg</td>\n",
       "      <td>Motorola Moto G54 256GB Blue 5G Android Smartp...</td>\n",
       "      <td>Moto G54</td>\n",
       "      <td>Motorola</td>\n",
       "    </tr>\n",
       "    <tr>\n",
       "      <th>3</th>\n",
       "      <td>image_003.jpg</td>\n",
       "      <td>Xiaomi 14 Ultra 5G 16GB/512GB White (White) Du...</td>\n",
       "      <td>14 Ultra</td>\n",
       "      <td>Xiaomi</td>\n",
       "    </tr>\n",
       "    <tr>\n",
       "      <th>4</th>\n",
       "      <td>image_004.jpg</td>\n",
       "      <td>Samsung Galaxy S20 FE 5G 6GB/128GB Purple (Lav...</td>\n",
       "      <td>Galaxy S20</td>\n",
       "      <td>Samsung</td>\n",
       "    </tr>\n",
       "  </tbody>\n",
       "</table>\n",
       "</div>"
      ],
      "text/plain": [
       "      Image_file                                             Labels  \\\n",
       "0  image_000.jpg  Samsung SM-A156B Galaxy A15 Dual SIM 5G 4GB RA...   \n",
       "1  image_001.jpg  Samsung SM-A556B Galaxy A55 5G Dual SIM 8GB 12...   \n",
       "2  image_002.jpg  Motorola Moto G54 256GB Blue 5G Android Smartp...   \n",
       "3  image_003.jpg  Xiaomi 14 Ultra 5G 16GB/512GB White (White) Du...   \n",
       "4  image_004.jpg  Samsung Galaxy S20 FE 5G 6GB/128GB Purple (Lav...   \n",
       "\n",
       "             Model   Company  \n",
       "0  SM-A156B Galaxy   Samsung  \n",
       "1  SM-A556B Galaxy   Samsung  \n",
       "2         Moto G54  Motorola  \n",
       "3         14 Ultra    Xiaomi  \n",
       "4       Galaxy S20   Samsung  "
      ]
     },
     "execution_count": 4,
     "metadata": {},
     "output_type": "execute_result"
    }
   ],
   "source": [
    "# loading mobile image dataframe\n",
    "mobile_df = pd.read_csv(\"image_dataset.csv\", index_col=0)\n",
    "mobile_df.head()"
   ]
  },
  {
   "cell_type": "code",
   "execution_count": 5,
   "metadata": {},
   "outputs": [
    {
     "name": "stdout",
     "output_type": "stream",
     "text": [
      "Directories created successfully.\n"
     ]
    }
   ],
   "source": [
    "# create class folders based on company labels \n",
    "class_names = mobile_df[\"Company\"].unique()\n",
    "train_path = \"D:\\\\Machine_Learning\\\\Portfolio_Project_Machine_Learning\\\\Mobile_Phone_Recognition\\\\datasets\\\\train\"\n",
    "test_path = \"D:\\\\Machine_Learning\\\\Portfolio_Project_Machine_Learning\\\\Mobile_Phone_Recognition\\\\datasets\\\\test\"\n",
    "val_path = \"D:\\\\Machine_Learning\\\\Portfolio_Project_Machine_Learning\\\\Mobile_Phone_Recognition\\\\datasets\\\\validation\"\n",
    "\n",
    "# Loop over each class name to create the directory structure\n",
    "for name in class_names:\n",
    "  # Create full paths for each class in train, test, and validation folders\n",
    "  train_class_path = os.path.join(train_path, name)\n",
    "  test_class_path = os.path.join(test_path, name)\n",
    "  val_class_path = os.path.join(val_path, name)\n",
    "  \n",
    "  # # Create directories if they do not already exist\n",
    "  # os.makedirs(train_class_path, exist_ok=True)\n",
    "  # os.makedirs(test_class_path, exist_ok=True)\n",
    "  # os.makedirs(val_class_path, exist_ok=True)\n",
    "\n",
    "print(\"Directories created successfully.\")"
   ]
  },
  {
   "cell_type": "markdown",
   "metadata": {},
   "source": [
    "## Image Extraction"
   ]
  },
  {
   "cell_type": "markdown",
   "metadata": {},
   "source": [
    "+ identify the source of images\n",
    "+ extract and organise images\n",
    "+ resize and format images \n",
    "+ download images based on train, test and validation "
   ]
  },
  {
   "cell_type": "code",
   "execution_count": 6,
   "metadata": {},
   "outputs": [
    {
     "name": "stdout",
     "output_type": "stream",
     "text": [
      "Source: D:\\Machine_Learning\\Portfolio_Project_Machine_Learning\\Mobile_Phone_Recognition\\datasets\n",
      "Folder Size: (5,)\n"
     ]
    }
   ],
   "source": [
    "# identify the source of images \n",
    "image_path = \"D:\\\\Machine_Learning\\\\Portfolio_Project_Machine_Learning\\\\Mobile_Phone_Recognition\\\\datasets\"\n",
    "image_files = np.array(os.listdir(image_path))\n",
    "\n",
    "print(f\"Source: {image_path}\")\n",
    "print(f\"Folder Size: {image_files.shape}\")"
   ]
  },
  {
   "cell_type": "markdown",
   "metadata": {},
   "source": [
    "## Image Preprocessing"
   ]
  },
  {
   "cell_type": "markdown",
   "metadata": {},
   "source": [
    "+ Visualise the images \n",
    "+ Visualise its size"
   ]
  },
  {
   "cell_type": "code",
   "execution_count": 7,
   "metadata": {},
   "outputs": [
    {
     "data": {
      "text/plain": [
       "0      image_000.jpg\n",
       "1      image_001.jpg\n",
       "2      image_002.jpg\n",
       "3      image_003.jpg\n",
       "4      image_004.jpg\n",
       "           ...      \n",
       "795    image_795.jpg\n",
       "796    image_796.jpg\n",
       "797    image_797.jpg\n",
       "798    image_798.jpg\n",
       "799    image_799.jpg\n",
       "Name: Image_file, Length: 800, dtype: object"
      ]
     },
     "execution_count": 7,
     "metadata": {},
     "output_type": "execute_result"
    }
   ],
   "source": [
    "images = mobile_df[\"Image_file\"]\n",
    "images"
   ]
  },
  {
   "cell_type": "code",
   "execution_count": 8,
   "metadata": {},
   "outputs": [
    {
     "name": "stdout",
     "output_type": "stream",
     "text": [
      "Image source: D:\\Machine_Learning\\Portfolio_Project_Machine_Learning\\Mobile_Phone_Recognition\\datasets\\source_images\\image_001.jpg\n"
     ]
    }
   ],
   "source": [
    "# path of selected images \n",
    "image_path = \"D:\\\\Machine_Learning\\\\Portfolio_Project_Machine_Learning\\\\Mobile_Phone_Recognition\\\\datasets\\\\source_images\"\n",
    "image_src = os.path.join(image_path, \"image_001.jpg\")\n",
    "print(f\"Image source: {image_src}\")\n",
    "\n",
    "# Apply data augmentation to a single image\n",
    "img = image.load_img(image_src)\n",
    "img_array = image.img_to_array(img)\n",
    "img_array = tf.expand_dims(img_array, 0)  # Add batch dimension (1, height, width, channels)"
   ]
  },
  {
   "cell_type": "code",
   "execution_count": 9,
   "metadata": {},
   "outputs": [],
   "source": [
    "# Apply data augmentation to a single image\n",
    "img = image.load_img(image_src)\n",
    "img_array = image.img_to_array(img)\n",
    "img_array = tf.expand_dims(img_array, 0)  # Add batch dimension (1, height, width, channels)"
   ]
  },
  {
   "cell_type": "code",
   "execution_count": 10,
   "metadata": {},
   "outputs": [
    {
     "data": {
      "text/plain": [
       "TensorShape([1, 320, 250, 3])"
      ]
     },
     "execution_count": 10,
     "metadata": {},
     "output_type": "execute_result"
    }
   ],
   "source": [
    "img_array.shape"
   ]
  },
  {
   "cell_type": "code",
   "execution_count": 12,
   "metadata": {},
   "outputs": [
    {
     "name": "stderr",
     "output_type": "stream",
     "text": [
      "<>:1: SyntaxWarning: invalid escape sequence '\\M'\n",
      "<>:1: SyntaxWarning: invalid escape sequence '\\M'\n",
      "C:\\Users\\mian_\\AppData\\Local\\Temp\\ipykernel_18840\\2092252868.py:1: SyntaxWarning: invalid escape sequence '\\M'\n",
      "  path = \"D:\\Machine_Learning\\Portfolio_Project_Machine_Learning\\Mobile_Phone_Recognition\\datasets\\source_images_v1\"\n"
     ]
    }
   ],
   "source": [
    "path = \"D:\\Machine_Learning\\Portfolio_Project_Machine_Learning\\Mobile_Phone_Recognition\\datasets\\source_images_v1\"\n",
    "image_files = [os.path.join(path, file) for file in mobile_df[\"Image_file\"].values]"
   ]
  },
  {
   "cell_type": "code",
   "execution_count": 19,
   "metadata": {},
   "outputs": [],
   "source": [
    "from sklearn.model_selection import train_test_split\n",
    "train, test = train_test_split(image_files,test_size=0.2, random_state=1234)"
   ]
  },
  {
   "cell_type": "code",
   "execution_count": 22,
   "metadata": {},
   "outputs": [
    {
     "data": {
      "text/plain": [
       "640"
      ]
     },
     "execution_count": 22,
     "metadata": {},
     "output_type": "execute_result"
    }
   ],
   "source": [
    "# for file in image_files:\n",
    "#   print(file)\n",
    "len(train)"
   ]
  },
  {
   "cell_type": "code",
   "execution_count": null,
   "metadata": {},
   "outputs": [],
   "source": []
  }
 ],
 "metadata": {
  "kernelspec": {
   "display_name": ".venv",
   "language": "python",
   "name": "python3"
  },
  "language_info": {
   "codemirror_mode": {
    "name": "ipython",
    "version": 3
   },
   "file_extension": ".py",
   "mimetype": "text/x-python",
   "name": "python",
   "nbconvert_exporter": "python",
   "pygments_lexer": "ipython3",
   "version": "3.12.4"
  }
 },
 "nbformat": 4,
 "nbformat_minor": 2
}

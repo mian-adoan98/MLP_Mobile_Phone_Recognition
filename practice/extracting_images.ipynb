{
 "cells": [
  {
   "cell_type": "code",
   "execution_count": 2,
   "metadata": {},
   "outputs": [],
   "source": [
    "from selenium import webdriver\n",
    "from selenium.webdriver.common.by import By \n",
    "import numpy as np \n",
    "import time\n",
    "import os  \n",
    "import numpy as np"
   ]
  },
  {
   "cell_type": "code",
   "execution_count": 11,
   "metadata": {},
   "outputs": [
    {
     "name": "stdout",
     "output_type": "stream",
     "text": [
      "Files: ['extracting_images.ipynb', 'resources.txt']\n"
     ]
    }
   ],
   "source": [
    "# define constants \n",
    "path = \"D:\\\\Machine_Learning\\\\Portfolio_Project_Machine_Learning\\\\Mobile_Phone_Recognition\\\\practice\"\n",
    "files = os.listdir(path)\n",
    "print(f\"Files: {files}\")"
   ]
  },
  {
   "cell_type": "code",
   "execution_count": 3,
   "metadata": {},
   "outputs": [
    {
     "data": {
      "text/plain": [
       "numpy.ndarray"
      ]
     },
     "execution_count": 3,
     "metadata": {},
     "output_type": "execute_result"
    }
   ],
   "source": [
    "x = np.array([1,2,3])\n",
    "type(x)"
   ]
  },
  {
   "cell_type": "code",
   "execution_count": 12,
   "metadata": {},
   "outputs": [
    {
     "name": "stdout",
     "output_type": "stream",
     "text": [
      "Filename D:\\Machine_Learning\\Portfolio_Project_Machine_Learning\\Mobile_Phone_Recognition\\practice\\resources.txt is successfully processed\n",
      "Filename D:\\Machine_Learning\\Portfolio_Project_Machine_Learning\\Mobile_Phone_Recognition\\practice\\resources.txt is successfully processed\n",
      "Amazon Links: ['https://www.amazon.com.be/-/en/s?i=electronics&rh=n%3A27862520031%2Cp_123%3A110955%7C146762%7C253649%7C329744%7C338933%7C46655&dc&fs=true&page=9&language=en&qid=1729203152&rnid=91049096031&ref=sr_pg_9\\n', 'https://www.amazon.com.be/-/en/s?i=electronics&rh=n%3A27862520031%2Cp_123%3A110955%7C146762%7C253649%7C329744%7C338933%7C46655&dc&fs=true&page=8&language=en&qid=1729203160&rnid=91049096031&ref=sr_pg_8\\n']\n"
     ]
    }
   ],
   "source": [
    "# open the resource file of weblinks \n",
    "def extract_links(filename: str) -> list:\n",
    "  # define list --> storing weblinks\n",
    "  weblinks = []\n",
    "  web_prefixes = (\"https://\",\"http://\")\n",
    "  # open the file that only includes weblinks \n",
    "  with open(filename, \"r\") as infile: \n",
    "    for line in infile:\n",
    "      if line.startswith(web_prefixes):\n",
    "        weblinks.append(line)\n",
    "        print(f\"Filename {filename} is successfully processed\")\n",
    "      else:\n",
    "        print(f\"Filename is rejected for processing\")\n",
    "  return weblinks \n",
    "\n",
    "# extract weblinks \n",
    "resource_text = os.path.join(path, \"resources.txt\")\n",
    "amazon_links = extract_links(filename=resource_text)\n",
    "print(f\"Amazon Links: {amazon_links}\")"
   ]
  },
  {
   "cell_type": "markdown",
   "metadata": {},
   "source": [
    "Extract images from amazon \n"
   ]
  },
  {
   "cell_type": "code",
   "execution_count": null,
   "metadata": {},
   "outputs": [],
   "source": [
    "def extract_mobile_images(weblink: str) -> list:\n",
    "  # set up webdriver \n",
    "  driver = webdriver.Chrome()\n",
    "  driver.get(weblink)\n",
    "\n",
    "  # time.sleep(3)\n",
    "\n",
    "  # locate all images elements\n",
    "  images = driver.find_elements(By.XPATH, \"//img[@src]\")\n",
    "\n",
    "  # extract image URLs\n",
    "  image_urls = []\n",
    "\n",
    "  for img in images: \n",
    "    src = img.get_attribute(\"src\")\n",
    "    if src and \"media-amazon\" in src: # only consider Amazon media URLS\n",
    "      image_urls.append(src)\n",
    "\n",
    "  # for idx, url in enumerate(image_urls):\n",
    "  #   print(f\"Image {idx + 1}: {url}\")\n",
    "  \n",
    "  # close the browser \n",
    "  driver.quit()\n",
    "\n",
    "  return image_urls"
   ]
  },
  {
   "cell_type": "code",
   "execution_count": 44,
   "metadata": {},
   "outputs": [],
   "source": [
    "# get all extracted images \n",
    "image_urls2d = []\n",
    "for weblink in amazon_links:\n",
    "  image_urls = extract_mobile_images(amazon_links[0])\n",
    "  image_urls2d.append(image_urls)\n",
    "\n",
    "image_urls2d = np.array(image_urls2d)\n"
   ]
  },
  {
   "cell_type": "code",
   "execution_count": 37,
   "metadata": {},
   "outputs": [
    {
     "data": {
      "text/plain": [
       "(52,)"
      ]
     },
     "execution_count": 37,
     "metadata": {},
     "output_type": "execute_result"
    }
   ],
   "source": [
    "image_urls2d.shape\n",
    "all_images = image_urls2d.flatten()\n",
    "all_images.shape"
   ]
  }
 ],
 "metadata": {
  "kernelspec": {
   "display_name": ".venv",
   "language": "python",
   "name": "python3"
  },
  "language_info": {
   "codemirror_mode": {
    "name": "ipython",
    "version": 3
   },
   "file_extension": ".py",
   "mimetype": "text/x-python",
   "name": "python",
   "nbconvert_exporter": "python",
   "pygments_lexer": "ipython3",
   "version": "3.12.4"
  }
 },
 "nbformat": 4,
 "nbformat_minor": 2
}

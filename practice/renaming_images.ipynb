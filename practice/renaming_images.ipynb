{
 "cells": [
  {
   "cell_type": "code",
   "execution_count": 2,
   "metadata": {},
   "outputs": [],
   "source": [
    "# import libraries for data processing\n",
    "import numpy as np\n",
    "import pandas as pd\n",
    "import glob\n",
    "import os \n",
    "\n",
    "# from image_processing.image_processing_tools import rename_images"
   ]
  },
  {
   "cell_type": "code",
   "execution_count": 21,
   "metadata": {},
   "outputs": [],
   "source": [
    "# rename images of the folder \n",
    "image_folder = \"D:\\\\Machine_Learning\\\\Portfolio_Project_Machine_Learning\\\\Mobile_Phone_Recognition\\\\practice\\\\images_test1\" \n",
    "new_folder = \"D:\\\\Machine_Learning\\\\Portfolio_Project_Machine_Learning\\\\Mobile_Phone_Recognition\\\\practice\\\\images_test2\"\n",
    "image_files = os.listdir(image_folder)"
   ]
  },
  {
   "cell_type": "code",
   "execution_count": 22,
   "metadata": {},
   "outputs": [
    {
     "data": {
      "text/plain": [
       "['image_237.jpg',\n",
       " 'image_238.jpg',\n",
       " 'image_239.jpg',\n",
       " 'image_240.jpg',\n",
       " 'image_241.jpg',\n",
       " 'image_242.jpg',\n",
       " 'image_243.jpg',\n",
       " 'image_244.jpg',\n",
       " 'image_25.jpg',\n",
       " 'image_251.jpg',\n",
       " 'image_252.jpg',\n",
       " 'image_253.jpg',\n",
       " 'image_254.jpg',\n",
       " 'image_255.jpg',\n",
       " 'image_256.jpg',\n",
       " 'image_257.jpg',\n",
       " 'image_26.jpg',\n",
       " 'image_260.jpg',\n",
       " 'image_265.jpg',\n",
       " 'image_266.jpg',\n",
       " 'image_267.jpg',\n",
       " 'image_268.jpg',\n",
       " 'image_269.jpg',\n",
       " 'image_270.jpg',\n",
       " 'image_271.jpg',\n",
       " 'image_272.jpg',\n",
       " 'image_277.jpg',\n",
       " 'image_278.jpg',\n",
       " 'image_279.jpg',\n",
       " 'image_280.jpg',\n",
       " 'image_281.jpg',\n",
       " 'image_282.jpg',\n",
       " 'image_283.jpg',\n",
       " 'image_286.jpg',\n",
       " 'image_29.jpg',\n",
       " 'image_291.jpg',\n",
       " 'image_292.jpg',\n",
       " 'image_293.jpg',\n",
       " 'image_294.jpg',\n",
       " 'image_295.jpg',\n",
       " 'image_296.jpg',\n",
       " 'image_297.jpg',\n",
       " 'image_298.jpg',\n",
       " 'image_30.jpg',\n",
       " 'image_38.jpg',\n",
       " 'image_39.jpg',\n",
       " 'image_40.jpg',\n",
       " 'image_41.jpg']"
      ]
     },
     "execution_count": 22,
     "metadata": {},
     "output_type": "execute_result"
    }
   ],
   "source": [
    "image_files"
   ]
  },
  {
   "cell_type": "code",
   "execution_count": null,
   "metadata": {},
   "outputs": [
    {
     "name": "stdout",
     "output_type": "stream",
     "text": [
      "Renamed 'image_25.jpg' to 'image_001.jpg'\n",
      "Renamed 'image_26.jpg' to 'image_002.jpg'\n",
      "Renamed 'image_29.jpg' to 'image_003.jpg'\n",
      "Renamed 'image_30.jpg' to 'image_004.jpg'\n",
      "Renamed 'image_38.jpg' to 'image_005.jpg'\n",
      "Renamed 'image_39.jpg' to 'image_006.jpg'\n",
      "Renamed 'image_40.jpg' to 'image_007.jpg'\n",
      "Renamed 'image_41.jpg' to 'image_008.jpg'\n",
      "Renamed 'image_237.jpg' to 'image_009.jpg'\n",
      "Renamed 'image_238.jpg' to 'image_010.jpg'\n",
      "Renamed 'image_239.jpg' to 'image_011.jpg'\n",
      "Renamed 'image_240.jpg' to 'image_012.jpg'\n",
      "Renamed 'image_241.jpg' to 'image_013.jpg'\n",
      "Renamed 'image_242.jpg' to 'image_014.jpg'\n",
      "Renamed 'image_243.jpg' to 'image_015.jpg'\n",
      "Renamed 'image_244.jpg' to 'image_016.jpg'\n",
      "Renamed 'image_251.jpg' to 'image_017.jpg'\n",
      "Renamed 'image_252.jpg' to 'image_018.jpg'\n",
      "Renamed 'image_253.jpg' to 'image_019.jpg'\n",
      "Renamed 'image_254.jpg' to 'image_020.jpg'\n",
      "Renamed 'image_255.jpg' to 'image_021.jpg'\n",
      "Renamed 'image_256.jpg' to 'image_022.jpg'\n",
      "Renamed 'image_257.jpg' to 'image_023.jpg'\n",
      "Renamed 'image_260.jpg' to 'image_024.jpg'\n",
      "Renamed 'image_265.jpg' to 'image_025.jpg'\n",
      "Renamed 'image_266.jpg' to 'image_026.jpg'\n",
      "Renamed 'image_267.jpg' to 'image_027.jpg'\n",
      "Renamed 'image_268.jpg' to 'image_028.jpg'\n",
      "Renamed 'image_269.jpg' to 'image_029.jpg'\n",
      "Renamed 'image_270.jpg' to 'image_030.jpg'\n",
      "Renamed 'image_271.jpg' to 'image_031.jpg'\n",
      "Renamed 'image_272.jpg' to 'image_032.jpg'\n",
      "Renamed 'image_277.jpg' to 'image_033.jpg'\n",
      "Renamed 'image_278.jpg' to 'image_034.jpg'\n",
      "Renamed 'image_279.jpg' to 'image_035.jpg'\n",
      "Renamed 'image_280.jpg' to 'image_036.jpg'\n",
      "Renamed 'image_281.jpg' to 'image_037.jpg'\n",
      "Renamed 'image_282.jpg' to 'image_038.jpg'\n",
      "Renamed 'image_283.jpg' to 'image_039.jpg'\n",
      "Renamed 'image_286.jpg' to 'image_040.jpg'\n",
      "Renamed 'image_291.jpg' to 'image_041.jpg'\n",
      "Renamed 'image_292.jpg' to 'image_042.jpg'\n",
      "Renamed 'image_293.jpg' to 'image_043.jpg'\n",
      "Renamed 'image_294.jpg' to 'image_044.jpg'\n",
      "Renamed 'image_295.jpg' to 'image_045.jpg'\n",
      "Renamed 'image_296.jpg' to 'image_046.jpg'\n",
      "Renamed 'image_297.jpg' to 'image_047.jpg'\n",
      "Renamed 'image_298.jpg' to 'image_048.jpg'\n"
     ]
    }
   ],
   "source": [
    "# Define the path to the directory containing the images\n",
    "directory = r'D:\\Machine_Learning\\Portfolio_Project_Machine_Learning\\Mobile_Phone_Recognition\\practice\\images_test1'\n",
    "\n",
    "# Get a list of all files in the directory\n",
    "files = os.listdir(directory)\n",
    "\n",
    "def rename_images(directory: str, files: list):\n",
    "    # Filter only image files\n",
    "    image_extensions = ['.jpg', '.jpeg', '.png', '.gif']\n",
    "    image_files = [f for f in files if any(f.endswith(ext) for ext in image_extensions)]\n",
    "\n",
    "    # Sort the image files numerically (this will sort by the number in the filename)\n",
    "    # Extract the numeric part of the filename and sort based on that\n",
    "    sorted_files = sorted(image_files, key=lambda f: int(f.split('_')[1].split('.')[0]))\n",
    "\n",
    "    # Rename the files with zero-padding to ensure correct lexicographical order\n",
    "    for idx, file in enumerate(sorted_files):\n",
    "        # Construct the new file name with zero-padding (adjust padding if needed)\n",
    "        new_name = f\"image_{idx + 1:03d}.jpg\"  # This will ensure names like image_001.jpg, image_002.jpg, etc.\n",
    "\n",
    "        # Get the full file path\n",
    "        old_path = os.path.join(directory, file)\n",
    "        new_path = os.path.join(directory, new_name)\n",
    "\n",
    "        # Rename the file\n",
    "        os.rename(old_path, new_path)\n",
    "\n",
    "        print(f\"Renamed '{file}' to '{new_name}'\")\n"
   ]
  },
  {
   "cell_type": "code",
   "execution_count": null,
   "metadata": {},
   "outputs": [],
   "source": []
  }
 ],
 "metadata": {
  "kernelspec": {
   "display_name": ".venv",
   "language": "python",
   "name": "python3"
  },
  "language_info": {
   "codemirror_mode": {
    "name": "ipython",
    "version": 3
   },
   "file_extension": ".py",
   "mimetype": "text/x-python",
   "name": "python",
   "nbconvert_exporter": "python",
   "pygments_lexer": "ipython3",
   "version": "3.12.4"
  }
 },
 "nbformat": 4,
 "nbformat_minor": 2
}

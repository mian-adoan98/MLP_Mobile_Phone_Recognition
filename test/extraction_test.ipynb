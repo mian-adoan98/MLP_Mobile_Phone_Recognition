{
 "cells": [
  {
   "cell_type": "markdown",
   "metadata": {},
   "source": [
    "# Extracting Labels: TESTCASE"
   ]
  },
  {
   "cell_type": "code",
   "execution_count": 45,
   "metadata": {},
   "outputs": [
    {
     "ename": "ModuleNotFoundError",
     "evalue": "No module named 'webdriver_manager'",
     "output_type": "error",
     "traceback": [
      "\u001b[1;31m---------------------------------------------------------------------------\u001b[0m",
      "\u001b[1;31mModuleNotFoundError\u001b[0m                       Traceback (most recent call last)",
      "Cell \u001b[1;32mIn[45], line 8\u001b[0m\n\u001b[0;32m      6\u001b[0m \u001b[38;5;28;01mfrom\u001b[39;00m \u001b[38;5;21;01mselenium\u001b[39;00m\u001b[38;5;21;01m.\u001b[39;00m\u001b[38;5;21;01mwebdriver\u001b[39;00m\u001b[38;5;21;01m.\u001b[39;00m\u001b[38;5;21;01mcommon\u001b[39;00m\u001b[38;5;21;01m.\u001b[39;00m\u001b[38;5;21;01mkeys\u001b[39;00m \u001b[38;5;28;01mimport\u001b[39;00m Keys\n\u001b[0;32m      7\u001b[0m \u001b[38;5;28;01mfrom\u001b[39;00m \u001b[38;5;21;01mselenium\u001b[39;00m\u001b[38;5;21;01m.\u001b[39;00m\u001b[38;5;21;01mwebdriver\u001b[39;00m\u001b[38;5;21;01m.\u001b[39;00m\u001b[38;5;21;01msupport\u001b[39;00m \u001b[38;5;28;01mimport\u001b[39;00m expected_conditions \u001b[38;5;28;01mas\u001b[39;00m EC\n\u001b[1;32m----> 8\u001b[0m \u001b[38;5;28;01mfrom\u001b[39;00m \u001b[38;5;21;01mwebdriver_manager\u001b[39;00m\u001b[38;5;21;01m.\u001b[39;00m\u001b[38;5;21;01mchrome\u001b[39;00m \u001b[38;5;28;01mimport\u001b[39;00m ChromeDriverManager\n\u001b[0;32m      9\u001b[0m \u001b[38;5;28;01mfrom\u001b[39;00m \u001b[38;5;21;01mbs4\u001b[39;00m \u001b[38;5;28;01mimport\u001b[39;00m BeautifulSoup\n\u001b[0;32m     10\u001b[0m \u001b[38;5;28;01mimport\u001b[39;00m \u001b[38;5;21;01mpandas\u001b[39;00m \u001b[38;5;28;01mas\u001b[39;00m \u001b[38;5;21;01mpd\u001b[39;00m \n",
      "\u001b[1;31mModuleNotFoundError\u001b[0m: No module named 'webdriver_manager'"
     ]
    }
   ],
   "source": [
    "from selenium import webdriver\n",
    "from selenium.webdriver.common.by import By \n",
    "from selenium.webdriver.chrome.options import Options\n",
    "from selenium.webdriver.support.ui import WebDriverWait\n",
    "from selenium.webdriver.chrome.service import Service\n",
    "from selenium.webdriver.common.keys import Keys\n",
    "from selenium.webdriver.support import expected_conditions as EC\n",
    "from bs4 import BeautifulSoup\n",
    "import pandas as pd \n",
    "import os \n",
    "import requests\n",
    "import time\n",
    "import concurrent.futures\n",
    "from typing import Callable, List"
   ]
  },
  {
   "cell_type": "code",
   "execution_count": 11,
   "metadata": {},
   "outputs": [],
   "source": [
    "def extract_mobile_labels(url: str) -> list: # PROBLEM\n",
    "  # Define constants for webscraping labels\n",
    "  div_id = \"1b1b766a-13a7-4d53-8a0a-d9a213f32278\"\n",
    "  div_class = \"a-section a-spacing-none a-spacing-top-small s-title-instructions-style\"\n",
    "  h2_class = \"a-size-base-plus a-spacing-none a-color-base a-text-normal\"\n",
    "  mobile_brainds = list(map(lambda brand: brand.lower(), [\"Samsung\", \"Apple\", \"OnePlus\", \"Motorola\", \"Nokia\", \"Xiaomi\", \"Google\"]))\n",
    "  \n",
    "  # Set up Chrome options for headless mode and pop-up disabling\n",
    "  chrome_options = Options()\n",
    "  chrome_options.add_argument(\"--headless\")  # Run in headless mode\n",
    "  chrome_options.add_argument(\"--disable-notifications\")\n",
    "  chrome_options.add_argument(\"--disable-popup-blocking\")\n",
    "  \n",
    "  # set up webdriver\n",
    "  # chromedriver_path = \".venv/Lib/site-packages/selenium/webdriver/chromedriver.exe\"\n",
    "  driver = webdriver.Chrome(options=chrome_options, \n",
    "                            # executable_path=chromedriver_path\n",
    "                            )\n",
    "  driver.get(url)\n",
    "  time.sleep(3)\n",
    "  # Wait for the page to load (adjust based on internet speed)\n",
    "  WebDriverWait(driver, 10).until(EC.presence_of_element_located((By.XPATH, f\"//h2[]\")))\n",
    "  label_elements = driver.find_elements(By.XPATH, f\"//h2[@class='{label_class}']//span\")\n",
    "  labels = [label.text for label in label_elements if any(brand in label.text for brand in mobile_brainds)]\n",
    "  driver.quit()\n",
    "\n",
    "  return labels\n"
   ]
  },
  {
   "cell_type": "code",
   "execution_count": 12,
   "metadata": {},
   "outputs": [
    {
     "data": {
      "text/plain": [
       "['https://www.amazon.com.be/-/en/s?i=electronics&rh=n%3A27862520031%2Cp_123%3A110955%7C146762%7C253649%7C329744%7C338933%7C46655%2Cp_n_feature_twenty-seven_browse-bin%3A51145603031&dc&fs=true&language=en&qid=1729202404&rnid=51145545031&ref=sr_nr_p_n_feature_twenty-seven_browse-bin_1&ds=v1%3AuVjPCyhGTVt7RbZvOi6iNRsrq9pxinkewX9vDrjMP6E\\n',\n",
       " 'https://www.amazon.com.be/-/en/s?i=electronics&rh=n%3A27862520031%2Cp_123%3A110955%7C146762%7C253649%7C329744%7C338933%7C46655%2Cp_n_feature_twenty-seven_browse-bin%3A51145610031&dc&fs=true&language=en&qid=1729202404&rnid=51145545031&ref=sr_nr_p_n_feature_twenty-seven_browse-bin_2&ds=v1%3AYCFyYCSPq%2F1wvkx0JEQtuMvje8n7h6wh75XQqGVav7o\\n',\n",
       " 'https://www.amazon.com.be/-/en/s?i=electronics&rh=n%3A27862520031%2Cp_123%3A110955%7C146762%7C253649%7C329744%7C338933%7C46655%2Cp_n_feature_twenty-seven_browse-bin%3A51145605031&dc&fs=true&language=en&qid=1729202404&rnid=51145545031&ref=sr_nr_p_n_feature_twenty-seven_browse-bin_3&ds=v1%3AfJH4CkfJtTAg2ZEcJf6da%2F8glIO1CO%2Bgm%2F91a2iUjPI\\n',\n",
       " 'https://www.amazon.com.be/-/en/s?i=electronics&rh=n%3A27862520031%2Cp_123%3A110955%7C146762%7C253649%7C329744%7C338933%7C46655%2Cp_n_feature_twenty-seven_browse-bin%3A51145588031&dc&fs=true&language=en&qid=1729202404&rnid=51145545031&ref=sr_nr_p_n_feature_twenty-seven_browse-bin_4&ds=v1%3Am1wZfX4WfJiib8nIp7oc%2BZ3hadLYtEfoWWKQwJKh7E8\\n']"
      ]
     },
     "execution_count": 12,
     "metadata": {},
     "output_type": "execute_result"
    }
   ],
   "source": [
    "df = pd.read_csv(\"links_page1.csv\")\n",
    "df = df.head(4)\n",
    "amazon = df[\"links\"].tolist()\n",
    "amazon \n"
   ]
  },
  {
   "cell_type": "code",
   "execution_count": 13,
   "metadata": {},
   "outputs": [],
   "source": [
    "# div_id = \"1b1b766a-13a7-4d53-8a0a-d9a213f32278\"\n",
    "div_class = \"a-section a-spacing-none a-spacing-top-small s-title-instructions-style\"\n",
    "h2_class = \"a-size-base-plus a-spacing-none a-color-base a-text-normal\""
   ]
  },
  {
   "cell_type": "markdown",
   "metadata": {},
   "source": [
    "div -> a -> h2 -> span"
   ]
  },
  {
   "cell_type": "code",
   "execution_count": 46,
   "metadata": {},
   "outputs": [
    {
     "name": "stdout",
     "output_type": "stream",
     "text": [
      "Iteration 1: Extracted 1 labels successfully\n",
      "Iteration 2: Extracted 2 labels successfully\n",
      "Iteration 3: Extracted 3 labels successfully\n",
      "Iteration 4: Extracted 4 labels successfully\n"
     ]
    }
   ],
   "source": [
    "\n",
    "# Create a new instance of the ChromeDriver ussing selenium amanager\n",
    "# Set up Chrome options for headless mode and pop-up disabling\n",
    "mobile_labels = []\n",
    "iteration = 0\n",
    "for url in amazon: \n",
    "  chrome_options = Options()\n",
    "  chrome_options.add_argument(\"--headless\")  # Run in headless mode\n",
    "  chrome_options.add_argument(\"--disable-notifications\")\n",
    "  chrome_options.add_argument(\"--disable-popup-blocking\")\n",
    "\n",
    "  # chromedriver_path = \".venv/Lib/site-packages/selenium/webdriver/chromedriver.exe\"\n",
    "  driver = webdriver.Chrome(options=chrome_options, \n",
    "                            # executable_path=chromedriver_path\n",
    "                            )\n",
    "  \n",
    "    # Open the URL\n",
    "  driver.get(url)\n",
    "  driver.execute_script(\"window.scrollTo(0, document.body.scrollHeight);\")\n",
    "  time.sleep(3)\n",
    "\n",
    "  # Wait for the product title to load (you can adjust this if needed)\n",
    "  WebDriverWait(driver, 10).until(EC.presence_of_element_located((By.XPATH, \"//div[@data-cy='title-recipe']//h2\")))\n",
    "\n",
    "  # Extract the product title using XPath\n",
    "  title_element = driver.find_element(By.XPATH, \"//div[@data-cy='title-recipe']//h2\")\n",
    "  \n",
    "  # Append the extracted title to the list\n",
    "  mobile_labels.append(title)\n",
    "  \n",
    "  # Print the number of labels extracted for this iteration\n",
    "  number_labels = len(mobile_labels)\n",
    "  iteration += 1\n",
    "  print(\"Iteration {}: Extracted {} labels successfully\".format(iteration, number_labels))\n",
    "  \n",
    "  # Close the browser after extracting data\n",
    "  driver.quit()"
   ]
  },
  {
   "cell_type": "code",
   "execution_count": null,
   "metadata": {},
   "outputs": [],
   "source": []
  },
  {
   "cell_type": "markdown",
   "metadata": {},
   "source": [
    "option 1: \n",
    "+ WebDriver Waiting: //div[@data-cy='title-recipe']\n",
    "+ Find element: //div[@data-cy='title-recipe']//h2/span"
   ]
  },
  {
   "cell_type": "code",
   "execution_count": 15,
   "metadata": {},
   "outputs": [],
   "source": [
    "for label in mobile_labels:\n",
    "  print(label)"
   ]
  },
  {
   "cell_type": "code",
   "execution_count": null,
   "metadata": {},
   "outputs": [],
   "source": []
  },
  {
   "cell_type": "code",
   "execution_count": null,
   "metadata": {},
   "outputs": [],
   "source": [
    "from selenium import webdriver\n",
    "from selenium.webdriver.common.by import By\n",
    "from selenium.webdriver.chrome.service import Service\n",
    "from selenium.webdriver.common.keys import Keys\n",
    "from webdriver_manager.chrome import ChromeDriverManager\n",
    "import time\n",
    "\n",
    "# Set up the webdriver (make sure to replace with your driver if needed)\n",
    "driver = webdriver.Chrome(service=Service(ChromeDriverManager().install()))\n",
    "\n",
    "# Open the webpage URL\n",
    "driver.get(\"YOUR_URL_HERE\")\n",
    "\n",
    "# Wait for the page to load (you can adjust the time or use WebDriverWait)\n",
    "time.sleep(3)  # Ideally, use WebDriverWait for better handling\n",
    "\n",
    "# Extract the title\n",
    "title_element = driver.find_element(By.XPATH, \"//div[@data-cy='title-recipe']//h2\")\n",
    "title = title_element.text if title_element else \"Title not found\""
   ]
  }
 ],
 "metadata": {
  "kernelspec": {
   "display_name": ".venv",
   "language": "python",
   "name": "python3"
  },
  "language_info": {
   "codemirror_mode": {
    "name": "ipython",
    "version": 3
   },
   "file_extension": ".py",
   "mimetype": "text/x-python",
   "name": "python",
   "nbconvert_exporter": "python",
   "pygments_lexer": "ipython3",
   "version": "3.12.4"
  }
 },
 "nbformat": 4,
 "nbformat_minor": 2
}

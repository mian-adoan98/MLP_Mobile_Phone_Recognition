{
 "cells": [
  {
   "cell_type": "markdown",
   "metadata": {},
   "source": [
    "# Model Evaluation"
   ]
  },
  {
   "cell_type": "code",
   "execution_count": 4,
   "metadata": {},
   "outputs": [],
   "source": [
    "# import fundamental libraries\n",
    "import tensorflow as tf\n",
    "import numpy as np \n",
    "import os \n",
    "import pandas as pd \n",
    "import matplotlib.pyplot as plt\n",
    "import matplotlib.image as mpimg\n",
    "\n",
    "# import dependencies for image processing\n",
    "from PIL import Image \n",
    "from tensorflow.keras.preprocessing.image import img_to_array"
   ]
  },
  {
   "cell_type": "markdown",
   "metadata": {},
   "source": [
    "**Approach: Model Evaluation**\n",
    "\n",
    "+ Performance Evaluation: Evalute Model Performance on: accuracy, loss, classification scores\n",
    "+ Model Prediction: Predict labels with 5 images\n",
    "+ Error Analysis"
   ]
  },
  {
   "cell_type": "markdown",
   "metadata": {},
   "source": [
    "## Performance Evaluation"
   ]
  },
  {
   "cell_type": "code",
   "execution_count": 2,
   "metadata": {},
   "outputs": [],
   "source": [
    "from model_evaluation_tools import model_performance_vis"
   ]
  },
  {
   "cell_type": "markdown",
   "metadata": {},
   "source": [
    "+ Visualise the performance of model 1: ConvNeuralNet\n",
    "+ Visualise the performance of model 2: DeepNeuralNet\n",
    "+ Visualise the performance of model 3: ResNet\n",
    "+ Compare 3 model performance simulations and conclude\n",
    "\n",
    "**!!Fixed the issue**"
   ]
  },
  {
   "cell_type": "code",
   "execution_count": 8,
   "metadata": {},
   "outputs": [
    {
     "ename": "KeyError",
     "evalue": "'accuracy'",
     "output_type": "error",
     "traceback": [
      "\u001b[1;31m---------------------------------------------------------------------------\u001b[0m",
      "\u001b[1;31mKeyError\u001b[0m                                  Traceback (most recent call last)",
      "File \u001b[1;32md:\\Machine_Learning\\Portfolio_Project_Machine_Learning\\Mobile_Phone_Recognition\\.venv\\Lib\\site-packages\\pandas\\core\\indexes\\base.py:3805\u001b[0m, in \u001b[0;36mIndex.get_loc\u001b[1;34m(self, key)\u001b[0m\n\u001b[0;32m   3804\u001b[0m \u001b[38;5;28;01mtry\u001b[39;00m:\n\u001b[1;32m-> 3805\u001b[0m     \u001b[38;5;28;01mreturn\u001b[39;00m \u001b[38;5;28;43mself\u001b[39;49m\u001b[38;5;241;43m.\u001b[39;49m\u001b[43m_engine\u001b[49m\u001b[38;5;241;43m.\u001b[39;49m\u001b[43mget_loc\u001b[49m\u001b[43m(\u001b[49m\u001b[43mcasted_key\u001b[49m\u001b[43m)\u001b[49m\n\u001b[0;32m   3806\u001b[0m \u001b[38;5;28;01mexcept\u001b[39;00m \u001b[38;5;167;01mKeyError\u001b[39;00m \u001b[38;5;28;01mas\u001b[39;00m err:\n",
      "File \u001b[1;32mindex.pyx:167\u001b[0m, in \u001b[0;36mpandas._libs.index.IndexEngine.get_loc\u001b[1;34m()\u001b[0m\n",
      "File \u001b[1;32mindex.pyx:196\u001b[0m, in \u001b[0;36mpandas._libs.index.IndexEngine.get_loc\u001b[1;34m()\u001b[0m\n",
      "File \u001b[1;32mpandas\\\\_libs\\\\hashtable_class_helper.pxi:7081\u001b[0m, in \u001b[0;36mpandas._libs.hashtable.PyObjectHashTable.get_item\u001b[1;34m()\u001b[0m\n",
      "File \u001b[1;32mpandas\\\\_libs\\\\hashtable_class_helper.pxi:7089\u001b[0m, in \u001b[0;36mpandas._libs.hashtable.PyObjectHashTable.get_item\u001b[1;34m()\u001b[0m\n",
      "\u001b[1;31mKeyError\u001b[0m: 'accuracy'",
      "\nThe above exception was the direct cause of the following exception:\n",
      "\u001b[1;31mKeyError\u001b[0m                                  Traceback (most recent call last)",
      "Cell \u001b[1;32mIn[8], line 11\u001b[0m\n\u001b[0;32m      9\u001b[0m \u001b[38;5;66;03m# training set\u001b[39;00m\n\u001b[0;32m     10\u001b[0m num_epochs \u001b[38;5;241m=\u001b[39m perform_df\u001b[38;5;241m.\u001b[39mindex\n\u001b[1;32m---> 11\u001b[0m train_acc \u001b[38;5;241m=\u001b[39m \u001b[43mperform_df\u001b[49m\u001b[43m[\u001b[49m\u001b[38;5;124;43m\"\u001b[39;49m\u001b[38;5;124;43maccuracy\u001b[39;49m\u001b[38;5;124;43m\"\u001b[39;49m\u001b[43m]\u001b[49m\n\u001b[0;32m     12\u001b[0m train_loss \u001b[38;5;241m=\u001b[39m perform_df[\u001b[38;5;124m\"\u001b[39m\u001b[38;5;124mloss\u001b[39m\u001b[38;5;124m\"\u001b[39m]\n\u001b[0;32m     14\u001b[0m \u001b[38;5;66;03m# validation set\u001b[39;00m\n",
      "File \u001b[1;32md:\\Machine_Learning\\Portfolio_Project_Machine_Learning\\Mobile_Phone_Recognition\\.venv\\Lib\\site-packages\\pandas\\core\\frame.py:4102\u001b[0m, in \u001b[0;36mDataFrame.__getitem__\u001b[1;34m(self, key)\u001b[0m\n\u001b[0;32m   4100\u001b[0m \u001b[38;5;28;01mif\u001b[39;00m \u001b[38;5;28mself\u001b[39m\u001b[38;5;241m.\u001b[39mcolumns\u001b[38;5;241m.\u001b[39mnlevels \u001b[38;5;241m>\u001b[39m \u001b[38;5;241m1\u001b[39m:\n\u001b[0;32m   4101\u001b[0m     \u001b[38;5;28;01mreturn\u001b[39;00m \u001b[38;5;28mself\u001b[39m\u001b[38;5;241m.\u001b[39m_getitem_multilevel(key)\n\u001b[1;32m-> 4102\u001b[0m indexer \u001b[38;5;241m=\u001b[39m \u001b[38;5;28;43mself\u001b[39;49m\u001b[38;5;241;43m.\u001b[39;49m\u001b[43mcolumns\u001b[49m\u001b[38;5;241;43m.\u001b[39;49m\u001b[43mget_loc\u001b[49m\u001b[43m(\u001b[49m\u001b[43mkey\u001b[49m\u001b[43m)\u001b[49m\n\u001b[0;32m   4103\u001b[0m \u001b[38;5;28;01mif\u001b[39;00m is_integer(indexer):\n\u001b[0;32m   4104\u001b[0m     indexer \u001b[38;5;241m=\u001b[39m [indexer]\n",
      "File \u001b[1;32md:\\Machine_Learning\\Portfolio_Project_Machine_Learning\\Mobile_Phone_Recognition\\.venv\\Lib\\site-packages\\pandas\\core\\indexes\\base.py:3812\u001b[0m, in \u001b[0;36mIndex.get_loc\u001b[1;34m(self, key)\u001b[0m\n\u001b[0;32m   3807\u001b[0m     \u001b[38;5;28;01mif\u001b[39;00m \u001b[38;5;28misinstance\u001b[39m(casted_key, \u001b[38;5;28mslice\u001b[39m) \u001b[38;5;129;01mor\u001b[39;00m (\n\u001b[0;32m   3808\u001b[0m         \u001b[38;5;28misinstance\u001b[39m(casted_key, abc\u001b[38;5;241m.\u001b[39mIterable)\n\u001b[0;32m   3809\u001b[0m         \u001b[38;5;129;01mand\u001b[39;00m \u001b[38;5;28many\u001b[39m(\u001b[38;5;28misinstance\u001b[39m(x, \u001b[38;5;28mslice\u001b[39m) \u001b[38;5;28;01mfor\u001b[39;00m x \u001b[38;5;129;01min\u001b[39;00m casted_key)\n\u001b[0;32m   3810\u001b[0m     ):\n\u001b[0;32m   3811\u001b[0m         \u001b[38;5;28;01mraise\u001b[39;00m InvalidIndexError(key)\n\u001b[1;32m-> 3812\u001b[0m     \u001b[38;5;28;01mraise\u001b[39;00m \u001b[38;5;167;01mKeyError\u001b[39;00m(key) \u001b[38;5;28;01mfrom\u001b[39;00m \u001b[38;5;21;01merr\u001b[39;00m\n\u001b[0;32m   3813\u001b[0m \u001b[38;5;28;01mexcept\u001b[39;00m \u001b[38;5;167;01mTypeError\u001b[39;00m:\n\u001b[0;32m   3814\u001b[0m     \u001b[38;5;66;03m# If we have a listlike key, _check_indexing_error will raise\u001b[39;00m\n\u001b[0;32m   3815\u001b[0m     \u001b[38;5;66;03m#  InvalidIndexError. Otherwise we fall through and re-raise\u001b[39;00m\n\u001b[0;32m   3816\u001b[0m     \u001b[38;5;66;03m#  the TypeError.\u001b[39;00m\n\u001b[0;32m   3817\u001b[0m     \u001b[38;5;28mself\u001b[39m\u001b[38;5;241m.\u001b[39m_check_indexing_error(key)\n",
      "\u001b[1;31mKeyError\u001b[0m: 'accuracy'"
     ]
    },
    {
     "data": {
      "image/png": "[encoded data removed]",
      "text/plain": [
       "<Figure size 1200x1000 with 2 Axes>"
      ]
     },
     "metadata": {},
     "output_type": "display_data"
    }
   ],
   "source": [
    "# load performance dataset\n",
    "csv_file = \"D:\\\\Machine_Learning\\\\Portfolio_Project_Machine_Learning\\\\Mobile_Phone_Recognition\\\\model_development\\\\performance_data\\\\perform_dataset.csv\"\n",
    "perform_df = pd.read_csv(csv_file, index_col=0)\n",
    "perform_df.columns = [column.capitalize() for column in perform_df.columns]\n",
    "# perform_df.head()\n",
    "\n",
    "# visualise model's performance \n",
    "fig, graph = plt.subplots(2,1, figsize=(12, 10))\n",
    "# training set\n",
    "num_epochs = perform_df.index\n",
    "train_acc = perform_df[\"accuracy\"]\n",
    "train_loss = perform_df[\"loss\"]\n",
    "\n",
    "# validation set\n",
    "val_acc = perform_df[\"val_accuracy\"]\n",
    "val_loss = perform_df[\"val_loss\"]\n",
    "\n",
    "graph1 = model_performance_vis(num_epochs, train_acc, val_acc, \"Accuracy\", ax=graph[0])\n",
    "graph2 = model_performance_vis(num_epochs, train_loss, val_loss, \"Loss\", ax=graph[1])"
   ]
  },
  {
   "cell_type": "code",
   "execution_count": null,
   "metadata": {},
   "outputs": [],
   "source": []
  },
  {
   "cell_type": "markdown",
   "metadata": {},
   "source": [
    "## Model Prediction"
   ]
  },
  {
   "cell_type": "code",
   "execution_count": 3,
   "metadata": {},
   "outputs": [],
   "source": [
    "from tensorflow.keras.models import load_model\n",
    "from model_selection import ConvNeuralNet"
   ]
  },
  {
   "cell_type": "code",
   "execution_count": 5,
   "metadata": {},
   "outputs": [],
   "source": [
    "# Load the model\n",
    "model1 = load_model(\"D:\\\\Machine_Learning\\\\Portfolio_Project_Machine_Learning\\\\Mobile_Phone_Recognition\\\\models\\\\mobile_recon_model1.keras\")\n"
   ]
  },
  {
   "cell_type": "code",
   "execution_count": 11,
   "metadata": {},
   "outputs": [
    {
     "name": "stdout",
     "output_type": "stream",
     "text": [
      "Image successfully converted to D:\\Machine_Learning\\Portfolio_Project_Machine_Learning\\Mobile_Phone_Recognition\\model_development\\images\\new_image0.png\n",
      "Image successfully converted to D:\\Machine_Learning\\Portfolio_Project_Machine_Learning\\Mobile_Phone_Recognition\\model_development\\images\\new_image1.png\n",
      "Image successfully converted to D:\\Machine_Learning\\Portfolio_Project_Machine_Learning\\Mobile_Phone_Recognition\\model_development\\images\\new_image2.png\n",
      "Image successfully converted to D:\\Machine_Learning\\Portfolio_Project_Machine_Learning\\Mobile_Phone_Recognition\\model_development\\images\\new_image3.png\n",
      "Image successfully converted to D:\\Machine_Learning\\Portfolio_Project_Machine_Learning\\Mobile_Phone_Recognition\\model_development\\images\\new_image4.png\n"
     ]
    }
   ],
   "source": [
    "# convert images into jpg\n",
    "# mobile images: testcase \n",
    "or_img_path = \"D:\\\\Machine_Learning\\\\Portfolio_Project_Machine_Learning\\\\Mobile_Phone_Recognition\\\\model_development\\\\images\"\n",
    "images = os.listdir(or_img_path)\n",
    "\n",
    "for i,image in enumerate(images): \n",
    "  # create image files\n",
    "  img_file = os.path.join(or_img_path, image)\n",
    "  img = Image.open(img_file)\n",
    "\n",
    "  # save new image files with extension(\"JPG\")\n",
    "  new_img_file = f\"new_image{i}.png\"\n",
    "  new_img_path = os.path.join(or_img_path, new_img_file)\n",
    "  img.save(new_img_path, format=\"PNG\")\n",
    "  print(f\"Image successfully converted to {new_img_path}\")"
   ]
  },
  {
   "cell_type": "code",
   "execution_count": 25,
   "metadata": {},
   "outputs": [
    {
     "name": "stdout",
     "output_type": "stream",
     "text": [
      "\u001b[1m1/1\u001b[0m \u001b[32m━━━━━━━━━━━━━━━━━━━━\u001b[0m\u001b[37m\u001b[0m \u001b[1m0s\u001b[0m 222ms/step\n",
      "\u001b[1m1/1\u001b[0m \u001b[32m━━━━━━━━━━━━━━━━━━━━\u001b[0m\u001b[37m\u001b[0m \u001b[1m0s\u001b[0m 30ms/step\n",
      "\u001b[1m1/1\u001b[0m \u001b[32m━━━━━━━━━━━━━━━━━━━━\u001b[0m\u001b[37m\u001b[0m \u001b[1m0s\u001b[0m 32ms/step\n",
      "\u001b[1m1/1\u001b[0m \u001b[32m━━━━━━━━━━━━━━━━━━━━\u001b[0m\u001b[37m\u001b[0m \u001b[1m0s\u001b[0m 28ms/step\n",
      "\u001b[1m1/1\u001b[0m \u001b[32m━━━━━━━━━━━━━━━━━━━━\u001b[0m\u001b[37m\u001b[0m \u001b[1m0s\u001b[0m 31ms/step\n"
     ]
    },
    {
     "name": "stderr",
     "output_type": "stream",
     "text": [
      "d:\\Machine_Learning\\Portfolio_Project_Machine_Learning\\Mobile_Phone_Recognition\\.venv\\Lib\\site-packages\\PIL\\Image.py:1054: UserWarning: Palette images with Transparency expressed in bytes should be converted to RGBA images\n",
      "  warnings.warn(\n"
     ]
    }
   ],
   "source": [
    "# Preprocess images \n",
    "# Load and preprocess the image\n",
    " # Path to the first image\n",
    "def preprocess_image(image_path: str) -> np.ndarray:\n",
    "  img = Image.open(image_path).resize((330, 330)).convert(\"RGB\")  # Resize to the model's expected input size\n",
    "  img_array = img_to_array(img)  # Convert to array\n",
    "  img_array = np.expand_dims(img_array, axis=0)  # Add batch dimension (1, 224, 224, 3)\n",
    "  img_array = img_array / 255.0  # Normalize pixel values to [0, 1]\n",
    "  return img_array\n",
    "\n",
    "# Images: testcase of 5 samples\n",
    "path = or_img_path\n",
    "images = os.listdir(path)\n",
    "images = [os.path.join(path, img) for img in images if \"new\" in img]\n",
    "\n",
    "\n",
    "# Predict the label\n",
    "predictions = []\n",
    "for i in range(len(images)):\n",
    "  image_i = preprocess_image(image_path = images[i])\n",
    "  ylabel = model1.predict(image_i)\n",
    "  predictions.append(ylabel)"
   ]
  },
  {
   "cell_type": "markdown",
   "metadata": {},
   "source": [
    "## Prediction Table"
   ]
  },
  {
   "cell_type": "code",
   "execution_count": 53,
   "metadata": {},
   "outputs": [
    {
     "name": "stdout",
     "output_type": "stream",
     "text": [
      "['Apple', 'Motorola', 'Nokia', 'OnePlus', 'Poco', 'Redmi', 'Samsung', 'Xiaomi']\n",
      "['new_image0.png', 'new_image1.png', 'new_image2.png', 'new_image3.png', 'new_image4.png']\n"
     ]
    },
    {
     "data": {
      "text/html": [
       "<div>\n",
       "<style scoped>\n",
       "    .dataframe tbody tr th:only-of-type {\n",
       "        vertical-align: middle;\n",
       "    }\n",
       "\n",
       "    .dataframe tbody tr th {\n",
       "        vertical-align: top;\n",
       "    }\n",
       "\n",
       "    .dataframe thead th {\n",
       "        text-align: right;\n",
       "    }\n",
       "</style>\n",
       "<table border=\"1\" class=\"dataframe\">\n",
       "  <thead>\n",
       "    <tr style=\"text-align: right;\">\n",
       "      <th></th>\n",
       "      <th>Apple</th>\n",
       "      <th>Motorola</th>\n",
       "      <th>Nokia</th>\n",
       "      <th>OnePlus</th>\n",
       "      <th>Poco</th>\n",
       "      <th>Redmi</th>\n",
       "      <th>Samsung</th>\n",
       "      <th>Xiaomi</th>\n",
       "    </tr>\n",
       "  </thead>\n",
       "  <tbody>\n",
       "    <tr>\n",
       "      <th>new_image0.png</th>\n",
       "      <td>0.101118</td>\n",
       "      <td>0.051759</td>\n",
       "      <td>0.315810</td>\n",
       "      <td>0.050165</td>\n",
       "      <td>0.032718</td>\n",
       "      <td>0.031261</td>\n",
       "      <td>0.202723</td>\n",
       "      <td>0.214448</td>\n",
       "    </tr>\n",
       "    <tr>\n",
       "      <th>new_image1.png</th>\n",
       "      <td>0.124861</td>\n",
       "      <td>0.072144</td>\n",
       "      <td>0.164724</td>\n",
       "      <td>0.061278</td>\n",
       "      <td>0.022094</td>\n",
       "      <td>0.032458</td>\n",
       "      <td>0.312032</td>\n",
       "      <td>0.210409</td>\n",
       "    </tr>\n",
       "    <tr>\n",
       "      <th>new_image2.png</th>\n",
       "      <td>0.162232</td>\n",
       "      <td>0.039003</td>\n",
       "      <td>0.082525</td>\n",
       "      <td>0.038279</td>\n",
       "      <td>0.007937</td>\n",
       "      <td>0.016993</td>\n",
       "      <td>0.474665</td>\n",
       "      <td>0.178365</td>\n",
       "    </tr>\n",
       "    <tr>\n",
       "      <th>new_image3.png</th>\n",
       "      <td>0.074124</td>\n",
       "      <td>0.103555</td>\n",
       "      <td>0.264574</td>\n",
       "      <td>0.083404</td>\n",
       "      <td>0.038229</td>\n",
       "      <td>0.036353</td>\n",
       "      <td>0.213660</td>\n",
       "      <td>0.186102</td>\n",
       "    </tr>\n",
       "    <tr>\n",
       "      <th>new_image4.png</th>\n",
       "      <td>0.148598</td>\n",
       "      <td>0.052184</td>\n",
       "      <td>0.080363</td>\n",
       "      <td>0.048657</td>\n",
       "      <td>0.009976</td>\n",
       "      <td>0.020740</td>\n",
       "      <td>0.461146</td>\n",
       "      <td>0.178336</td>\n",
       "    </tr>\n",
       "  </tbody>\n",
       "</table>\n",
       "</div>"
      ],
      "text/plain": [
       "                   Apple  Motorola     Nokia   OnePlus      Poco     Redmi  \\\n",
       "new_image0.png  0.101118  0.051759  0.315810  0.050165  0.032718  0.031261   \n",
       "new_image1.png  0.124861  0.072144  0.164724  0.061278  0.022094  0.032458   \n",
       "new_image2.png  0.162232  0.039003  0.082525  0.038279  0.007937  0.016993   \n",
       "new_image3.png  0.074124  0.103555  0.264574  0.083404  0.038229  0.036353   \n",
       "new_image4.png  0.148598  0.052184  0.080363  0.048657  0.009976  0.020740   \n",
       "\n",
       "                 Samsung    Xiaomi  \n",
       "new_image0.png  0.202723  0.214448  \n",
       "new_image1.png  0.312032  0.210409  \n",
       "new_image2.png  0.474665  0.178365  \n",
       "new_image3.png  0.213660  0.186102  \n",
       "new_image4.png  0.461146  0.178336  "
      ]
     },
     "execution_count": 53,
     "metadata": {},
     "output_type": "execute_result"
    }
   ],
   "source": [
    "# Define constants for creating a prediction table\n",
    "company_names = \"Apple\tMotorola\tNokia\tOnePlus\tPoco\tRedmi\tSamsung\tXiaomi\"\n",
    "company_labels = company_names.split()\n",
    "img_files = [img for img in os.listdir(or_img_path) if \"new\" in img]\n",
    "print(company_labels)\n",
    "print(img_files)\n",
    "\n",
    "# Construct dataframe\n",
    "prediction_flat = [pred.flatten() for pred in predictions]\n",
    "prediction_df = pd.DataFrame(prediction_flat, columns=company_labels, index=img_files)\n",
    "\n",
    "prediction_df.head(10)"
   ]
  },
  {
   "cell_type": "markdown",
   "metadata": {},
   "source": [
    "## Visualise Smartphone images"
   ]
  },
  {
   "cell_type": "code",
   "execution_count": 70,
   "metadata": {},
   "outputs": [],
   "source": [
    "# format data with 4 decimals\n",
    "prediction_df[\"Apple\"] = prediction_df[\"Apple\"].apply(lambda x: np.round(x, 3)*100) \n",
    "prediction_df[\"Motorola\"] = prediction_df[\"Motorola\"].apply(lambda x: np.round(x, 3)*100) \n",
    "prediction_df[\"Nokia\"] = prediction_df[\"Nokia\"].apply(lambda x: np.round(x, 3)*100) \n",
    "prediction_df[\"OnePlus\"] = prediction_df[\"OnePlus\"].apply(lambda x: np.round(x, 3)*100) \n",
    "prediction_df[\"Poco\"] = prediction_df[\"Poco\"].apply(lambda x: np.round(x, 3)*100) \n",
    "prediction_df[\"Redmi\"] = prediction_df[\"Redmi\"].apply(lambda x: np.round(x, 3)*100) \n",
    "prediction_df[\"Samsung\"] = prediction_df[\"Samsung\"].apply(lambda x: np.round(x, 3)*100) \n",
    "prediction_df[\"Xiaomi\"] = prediction_df[\"Xiaomi\"].apply(lambda x: np.round(x, 3)*100) "
   ]
  },
  {
   "cell_type": "code",
   "execution_count": 71,
   "metadata": {},
   "outputs": [
    {
     "data": {
      "text/html": [
       "<div>\n",
       "<style scoped>\n",
       "    .dataframe tbody tr th:only-of-type {\n",
       "        vertical-align: middle;\n",
       "    }\n",
       "\n",
       "    .dataframe tbody tr th {\n",
       "        vertical-align: top;\n",
       "    }\n",
       "\n",
       "    .dataframe thead th {\n",
       "        text-align: right;\n",
       "    }\n",
       "</style>\n",
       "<table border=\"1\" class=\"dataframe\">\n",
       "  <thead>\n",
       "    <tr style=\"text-align: right;\">\n",
       "      <th></th>\n",
       "      <th>Apple</th>\n",
       "      <th>Motorola</th>\n",
       "      <th>Nokia</th>\n",
       "      <th>OnePlus</th>\n",
       "      <th>Poco</th>\n",
       "      <th>Redmi</th>\n",
       "      <th>Samsung</th>\n",
       "      <th>Xiaomi</th>\n",
       "    </tr>\n",
       "  </thead>\n",
       "  <tbody>\n",
       "    <tr>\n",
       "      <th>new_image0.png</th>\n",
       "      <td>10.1</td>\n",
       "      <td>5.2</td>\n",
       "      <td>31.6</td>\n",
       "      <td>5.0</td>\n",
       "      <td>3.3</td>\n",
       "      <td>3.1</td>\n",
       "      <td>20.3</td>\n",
       "      <td>21.4</td>\n",
       "    </tr>\n",
       "    <tr>\n",
       "      <th>new_image1.png</th>\n",
       "      <td>12.5</td>\n",
       "      <td>7.2</td>\n",
       "      <td>16.5</td>\n",
       "      <td>6.1</td>\n",
       "      <td>2.2</td>\n",
       "      <td>3.2</td>\n",
       "      <td>31.2</td>\n",
       "      <td>21.0</td>\n",
       "    </tr>\n",
       "    <tr>\n",
       "      <th>new_image2.png</th>\n",
       "      <td>16.2</td>\n",
       "      <td>3.9</td>\n",
       "      <td>8.3</td>\n",
       "      <td>3.8</td>\n",
       "      <td>0.8</td>\n",
       "      <td>1.7</td>\n",
       "      <td>47.5</td>\n",
       "      <td>17.8</td>\n",
       "    </tr>\n",
       "    <tr>\n",
       "      <th>new_image3.png</th>\n",
       "      <td>7.4</td>\n",
       "      <td>10.4</td>\n",
       "      <td>26.5</td>\n",
       "      <td>8.3</td>\n",
       "      <td>3.8</td>\n",
       "      <td>3.6</td>\n",
       "      <td>21.4</td>\n",
       "      <td>18.6</td>\n",
       "    </tr>\n",
       "    <tr>\n",
       "      <th>new_image4.png</th>\n",
       "      <td>14.9</td>\n",
       "      <td>5.2</td>\n",
       "      <td>8.0</td>\n",
       "      <td>4.9</td>\n",
       "      <td>1.0</td>\n",
       "      <td>2.1</td>\n",
       "      <td>46.1</td>\n",
       "      <td>17.8</td>\n",
       "    </tr>\n",
       "  </tbody>\n",
       "</table>\n",
       "</div>"
      ],
      "text/plain": [
       "                Apple  Motorola  Nokia  OnePlus  Poco  Redmi  Samsung  Xiaomi\n",
       "new_image0.png   10.1       5.2   31.6      5.0   3.3    3.1     20.3    21.4\n",
       "new_image1.png   12.5       7.2   16.5      6.1   2.2    3.2     31.2    21.0\n",
       "new_image2.png   16.2       3.9    8.3      3.8   0.8    1.7     47.5    17.8\n",
       "new_image3.png    7.4      10.4   26.5      8.3   3.8    3.6     21.4    18.6\n",
       "new_image4.png   14.9       5.2    8.0      4.9   1.0    2.1     46.1    17.8"
      ]
     },
     "execution_count": 71,
     "metadata": {},
     "output_type": "execute_result"
    }
   ],
   "source": [
    "prediction_df"
   ]
  },
  {
   "cell_type": "markdown",
   "metadata": {},
   "source": [
    "**Conclusion**: There need more images to be collected to retrain the model."
   ]
  },
  {
   "cell_type": "markdown",
   "metadata": {},
   "source": []
  }
 ],
 "metadata": {
  "kernelspec": {
   "display_name": ".venv",
   "language": "python",
   "name": "python3"
  },
  "language_info": {
   "codemirror_mode": {
    "name": "ipython",
    "version": 3
   },
   "file_extension": ".py",
   "mimetype": "text/x-python",
   "name": "python",
   "nbconvert_exporter": "python",
   "pygments_lexer": "ipython3",
   "version": "3.12.4"
  }
 },
 "nbformat": 4,
 "nbformat_minor": 2
}
